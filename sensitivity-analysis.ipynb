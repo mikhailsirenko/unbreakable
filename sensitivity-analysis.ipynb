{
 "cells": [
  {
   "cell_type": "code",
   "execution_count": 1,
   "metadata": {},
   "outputs": [],
   "source": [
    "import pandas as pd\n",
    "import numpy as np\n",
    "import matplotlib.pyplot as plt\n",
    "import math\n",
    "import numpy as np\n",
    "import seaborn as sns\n",
    "import scipy.stats as stats"
   ]
  },
  {
   "cell_type": "code",
   "execution_count": 2,
   "metadata": {},
   "outputs": [],
   "source": [
    "def generate_households(num_households=1, exp:float = None, v:float = None, fix_seed:bool=True):\n",
    "    '''Generate dummy households.'''\n",
    "    if fix_seed:\n",
    "        np.random.seed(0)  # Ensure reproducibility\n",
    "\n",
    "    data = {'exp_house': 0,\n",
    "            'consumption_loss': 0,\n",
    "            'consumption_loss_npv': 0,\n",
    "            'net_consumption_loss': 0,\n",
    "            'net_consumption_loss_npv': 0,\n",
    "            'c_t': 0,\n",
    "            'c_t_unaffected': 0,\n",
    "            'wellbeing': 0}\n",
    "    \n",
    "    if exp is None:\n",
    "        # Generate expenditure\n",
    "        lower, upper = 153, 5474\n",
    "        mu, sigma = 1099, 1099\n",
    "        X = stats.truncnorm((lower - mu) / sigma,\n",
    "                            (upper - mu) / sigma, loc=mu, scale=sigma)\n",
    "        exp = X.rvs(num_households)\n",
    "        data['exp'] = exp\n",
    "    else:\n",
    "        data['exp'] = exp\n",
    "\n",
    "    # Income is a product of expenditure and a random coefficient\n",
    "    inc_multiplier = 1.48 \n",
    "    inc_delta = 0.1\n",
    "    low = inc_multiplier - inc_delta\n",
    "    high = inc_multiplier + inc_delta\n",
    "    data['inc'] = data['exp'] * np.random.uniform(low, high)\n",
    "\n",
    "    sav_multiplier = 0.0204\n",
    "    sav_delta = 0.02\n",
    "    low = sav_multiplier - sav_delta\n",
    "    high = sav_multiplier + sav_delta\n",
    "    data['sav'] = data['inc'] * np.random.uniform(low, high)\n",
    "\n",
    "    # divide by average productivity of capital\n",
    "    data['keff'] = data['inc'] / 0.35\n",
    "\n",
    "    if v is None:\n",
    "        data['v'] = np.random.uniform(0.2, 0.8, num_households)\n",
    "    else:\n",
    "        data['v'] = v\n",
    "\n",
    "    # Sort column)\n",
    "    sorted_columns = ['exp', 'inc', 'sav', 'keff', 'exp_house', 'v', 'consumption_loss', 'consumption_loss_npv',\n",
    "                      'net_consumption_loss', 'net_consumption_loss_npv', 'c_t', 'c_t_unaffected', 'wellbeing']\n",
    "\n",
    "    return pd.DataFrame(data, index=[0])[sorted_columns]"
   ]
  },
  {
   "cell_type": "code",
   "execution_count": 3,
   "metadata": {},
   "outputs": [],
   "source": [
    "def calculate_consumption_recovery(df:pd.DataFrame, parameters:dict, print_statistics:bool=False) -> pd.DataFrame:\n",
    "    '''Calculate consumption recovery'''\n",
    "    initial_expenditure = df['exp'].values\n",
    "    initial_savings = df['sav'].values\n",
    "    effective_capital = df['keff'].values\n",
    "\n",
    "    recovery_rate = parameters['recovery_rate']\n",
    "    years_to_recover = parameters['years_to_recover']\n",
    "    income_and_expenditure_growth = parameters['income_and_expenditure_growth']\n",
    "    average_productivity = parameters['average_productivity']\n",
    "    consumption_utility = parameters['consumption_utility']\n",
    "    discount_rate = parameters['discount_rate']\n",
    "    \n",
    "    try:\n",
    "        vulnerability_increase_factor = parameters['vulnerability_increase_factor']\n",
    "        vulnerability = parameters['v']\n",
    "    except:\n",
    "        vulnerability_increase_factor = 1\n",
    "        vulnerability = df['v'].values\n",
    "    \n",
    "    totaL_weeks = 52 * years_to_recover\n",
    "    dt = 1 / 52\n",
    "    consumption = {}\n",
    "    consumption_unaffected = {}\n",
    "    wellbeing = {}\n",
    "    consumption_loss = {}\n",
    "    consumption_loss_npv = {}\n",
    "\n",
    "    for time in np.linspace(0, years_to_recover, totaL_weeks):\n",
    "        exponential_multiplier = np.e**(-recovery_rate * time)\n",
    "        growth_factor = (1 + income_and_expenditure_growth)**time\n",
    "\n",
    "        current_expenditure = growth_factor * initial_expenditure\n",
    "        current_savings = growth_factor * initial_savings * (1 / vulnerability_increase_factor) # * recovery_rate\n",
    "        \n",
    "        asset_loss = growth_factor * effective_capital * vulnerability * vulnerability_increase_factor * recovery_rate \n",
    "        income_loss = growth_factor * average_productivity * effective_capital * vulnerability * vulnerability_increase_factor # * recovery_rate\n",
    "        # income_loss = 0\n",
    "\n",
    "        c_t = np.maximum(current_expenditure + exponential_multiplier * (current_savings - asset_loss - income_loss), 0)\n",
    "        c_t_unaffected = current_expenditure\n",
    "        c_t = np.minimum(c_t, c_t_unaffected)\n",
    "        \n",
    "        consumption[time] = c_t\n",
    "        consumption_unaffected[time] = c_t_unaffected\n",
    "        consumption_loss[time] = dt * (c_t_unaffected - c_t)\n",
    "        consumption_loss_npv[time] = dt * (c_t_unaffected - c_t)*np.e**(-discount_rate * time)\n",
    "\n",
    "        wellbeing[time] = c_t_unaffected**(1 - consumption_utility) / (1 - consumption_utility) * dt \\\n",
    "            * ((1 - ((c_t_unaffected - c_t) / c_t_unaffected) * np.e**(-recovery_rate * time))**(1 - consumption_utility) - 1) \\\n",
    "            * np.e**(-discount_rate * time)\n",
    "\n",
    "    total_consumption_loss = sum(consumption_loss.values())\n",
    "    total_consumption_loss_npv = sum(consumption_loss_npv.values())\n",
    "\n",
    "    if print_statistics:\n",
    "        print('Total consumption loss:', \"{:,}\".format(round(total_consumption_loss[0])))\n",
    "        print('Total consumption loss NPV:', \"{:,}\".format(round(total_consumption_loss_npv[0])))\n",
    "\n",
    "    return pd.DataFrame(consumption), pd.DataFrame(consumption_unaffected), pd.DataFrame(consumption_loss), pd.DataFrame(consumption_loss_npv), pd.DataFrame(wellbeing)"
   ]
  },
  {
   "cell_type": "code",
   "execution_count": 21,
   "metadata": {},
   "outputs": [
    {
     "name": "stdout",
     "output_type": "stream",
     "text": [
      "Total consumption loss: 10,221\n",
      "Total consumption loss NPV: 9,464\n"
     ]
    },
    {
     "data": {
      "image/png": "[encoded data removed]",
      "text/plain": [
       "<Figure size 420x280 with 1 Axes>"
      ]
     },
     "metadata": {},
     "output_type": "display_data"
    },
    {
     "data": {
      "image/png": "[encoded data removed]",
      "text/plain": [
       "<Figure size 420x280 with 1 Axes>"
      ]
     },
     "metadata": {},
     "output_type": "display_data"
    }
   ],
   "source": [
    "df = generate_households(num_households=1, exp=5000, v=0.3, fix_seed=False)\n",
    "\n",
    "default_parameters = {'recovery_rate': 0.5, \n",
    "                      'years_to_recover': 10, \n",
    "                      'income_and_expenditure_growth': 0.02,\n",
    "                      'average_productivity': 0.35,\n",
    "                      'consumption_utility': 1.5,\n",
    "                      'discount_rate': 0.04}\n",
    "\n",
    "consumption, consumption_unaffected, consumption_loss, consumption_loss_npv, wellbeing = calculate_consumption_recovery(df, default_parameters, print_statistics=True)\n",
    "\n",
    "ax = consumption_loss.T.plot(legend=False)\n",
    "plt.xlabel('Years')\n",
    "plt.ylabel('Consumption loss');\n",
    "sns.despine()\n",
    "\n",
    "ax = wellbeing.T.plot(legend=False)\n",
    "plt.xlabel('Years')\n",
    "plt.ylabel('Wellbeing loss');\n",
    "sns.despine()"
   ]
  },
  {
   "cell_type": "code",
   "execution_count": 22,
   "metadata": {},
   "outputs": [
    {
     "data": {
      "text/plain": [
       "(5000, -0.034520709496898866, 6032.746643707037, 9464.387539258825)"
      ]
     },
     "execution_count": 22,
     "metadata": {},
     "output_type": "execute_result"
    }
   ],
   "source": [
    "consumption_utility = 1.5\n",
    "discount_rate = 0.04\n",
    "weighted_average_expenditure = df['exp'].values[0]\n",
    "total_wellbeing_loss = wellbeing.replace([np.inf, -np.inf], np.nan).dropna(axis=1).sum(axis=1).values[0]\n",
    "total_asset_damage = df['keff'].multiply(df['v']).values[0]\n",
    "total_consumption_loss = consumption_loss.sum(axis=1).values[0]\n",
    "total_consumption_loss_npv = consumption_loss_npv.sum(axis=1).values[0]\n",
    "weighted_average_expenditure, total_wellbeing_loss, total_asset_damage, total_consumption_loss_npv"
   ]
  },
  {
   "cell_type": "code",
   "execution_count": 45,
   "metadata": {},
   "outputs": [
    {
     "data": {
      "text/plain": [
       "2.82842712474619e-06"
      ]
     },
     "execution_count": 45,
     "metadata": {},
     "output_type": "execute_result"
    }
   ],
   "source": [
    "welfare = math.pow(weighted_average_expenditure, -consumption_utility)\n",
    "welfare"
   ]
  },
  {
   "cell_type": "code",
   "execution_count": 42,
   "metadata": {},
   "outputs": [
    {
     "data": {
      "text/plain": [
       "-0.0282842712474619"
      ]
     },
     "execution_count": 42,
     "metadata": {},
     "output_type": "execute_result"
    }
   ],
   "source": [
    "welfare = (math.pow(weighted_average_expenditure, 1 - consumption_utility)) / (1 - consumption_utility)\n",
    "welfare"
   ]
  },
  {
   "cell_type": "code",
   "execution_count": 39,
   "metadata": {},
   "outputs": [
    {
     "data": {
      "text/plain": [
       "1.9943431457505076"
      ]
     },
     "execution_count": 39,
     "metadata": {},
     "output_type": "execute_result"
    }
   ],
   "source": [
    "welfare = (math.pow((1 / discount_rate) * weighted_average_expenditure, 1 - consumption_utility) - 1) / (1 - consumption_utility)\n",
    "welfare"
   ]
  },
  {
   "cell_type": "code",
   "execution_count": 47,
   "metadata": {},
   "outputs": [
    {
     "data": {
      "text/plain": [
       "12204.91388831402"
      ]
     },
     "execution_count": 47,
     "metadata": {},
     "output_type": "execute_result"
    }
   ],
   "source": [
    "tot_consum_equiv_loss = - (total_wellbeing_loss / welfare)\n",
    "tot_consum_equiv_loss"
   ]
  },
  {
   "cell_type": "code",
   "execution_count": 48,
   "metadata": {},
   "outputs": [
    {
     "data": {
      "text/plain": [
       "(0.6374154290156501, 0.49428834147558226)"
      ]
     },
     "execution_count": 48,
     "metadata": {},
     "output_type": "execute_result"
    }
   ],
   "source": [
    "total_asset_damage / total_consumption_loss_npv, total_asset_damage / tot_consum_equiv_loss"
   ]
  },
  {
   "cell_type": "code",
   "execution_count": null,
   "metadata": {},
   "outputs": [],
   "source": []
  }
 ],
 "metadata": {
  "kernelspec": {
   "display_name": "unbreakable",
   "language": "python",
   "name": "python3"
  },
  "language_info": {
   "codemirror_mode": {
    "name": "ipython",
    "version": 3
   },
   "file_extension": ".py",
   "mimetype": "text/x-python",
   "name": "python",
   "nbconvert_exporter": "python",
   "pygments_lexer": "ipython3",
   "version": "3.9.18"
  }
 },
 "nbformat": 4,
 "nbformat_minor": 2
}

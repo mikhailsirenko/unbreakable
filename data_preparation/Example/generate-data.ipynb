{
 "cells": [
  {
   "cell_type": "code",
   "execution_count": 1,
   "metadata": {},
   "outputs": [],
   "source": [
    "import numpy as np\n",
    "from unbreakable.utils.data_generator import generate_households, generate_asset_damage\n",
    "from unbreakable.modules.household_recovery import precompute_reconstruction_rates"
   ]
  },
  {
   "cell_type": "markdown",
   "metadata": {},
   "source": [
    "## Generate households and asset damage"
   ]
  },
  {
   "cell_type": "code",
   "execution_count": 2,
   "metadata": {},
   "outputs": [],
   "source": [
    "# Specify the number of households and spatial units\n",
    "num_households = 300\n",
    "num_spatial_units = 3\n",
    "seed = 42\n",
    "\n",
    "# Generate dummy household survey data\n",
    "households = generate_households(num_households, num_spatial_units, seed)\n",
    "households.to_csv(\"../../data/processed/household_survey/Example.csv\", index=False)\n",
    "\n",
    "# Get how much stock each household is exposed to\n",
    "households[\"total_exposed_stock\"] = (\n",
    "    households[\"keff\"] * households[\"household_weight\"]\n",
    ")\n",
    "\n",
    "exposure_data = (\n",
    "    households.groupby(\"spatial_unit\")[\"total_exposed_stock\"].sum().reset_index()\n",
    ")\n",
    "\n",
    "\n",
    "# Generate dummy disaster risk and household survey data\n",
    "disaster_types = [\"flood\", \"hurricane\", \"earthquake\"]\n",
    "\n",
    "for disaster in disaster_types:\n",
    "    df = generate_asset_damage(disaster, exposure_data, num_spatial_units, seed=seed)\n",
    "    df.to_csv(\n",
    "        f\"../../data/processed/asset_impacts/Example/{disaster}.csv\", index=False\n",
    "    )"
   ]
  },
  {
   "cell_type": "code",
   "execution_count": 3,
   "metadata": {},
   "outputs": [
    {
     "data": {
      "text/html": [
       "<div>\n",
       "<style scoped>\n",
       "    .dataframe tbody tr th:only-of-type {\n",
       "        vertical-align: middle;\n",
       "    }\n",
       "\n",
       "    .dataframe tbody tr th {\n",
       "        vertical-align: top;\n",
       "    }\n",
       "\n",
       "    .dataframe thead th {\n",
       "        text-align: right;\n",
       "    }\n",
       "</style>\n",
       "<table border=\"1\" class=\"dataframe\">\n",
       "  <thead>\n",
       "    <tr style=\"text-align: right;\">\n",
       "      <th></th>\n",
       "      <th>spatial_unit</th>\n",
       "      <th>total_exposed_stock</th>\n",
       "    </tr>\n",
       "  </thead>\n",
       "  <tbody>\n",
       "    <tr>\n",
       "      <th>0</th>\n",
       "      <td>region_0</td>\n",
       "      <td>30421757.0</td>\n",
       "    </tr>\n",
       "    <tr>\n",
       "      <th>1</th>\n",
       "      <td>region_1</td>\n",
       "      <td>37445729.0</td>\n",
       "    </tr>\n",
       "    <tr>\n",
       "      <th>2</th>\n",
       "      <td>region_2</td>\n",
       "      <td>28830486.0</td>\n",
       "    </tr>\n",
       "  </tbody>\n",
       "</table>\n",
       "</div>"
      ],
      "text/plain": [
       "  spatial_unit  total_exposed_stock\n",
       "0     region_0           30421757.0\n",
       "1     region_1           37445729.0\n",
       "2     region_2           28830486.0"
      ]
     },
     "execution_count": 3,
     "metadata": {},
     "output_type": "execute_result"
    }
   ],
   "source": [
    "exposure_data.round()"
   ]
  },
  {
   "cell_type": "code",
   "execution_count": 4,
   "metadata": {},
   "outputs": [
    {
     "data": {
      "text/plain": [
       "0    30421757.25\n",
       "1    37445728.57\n",
       "2    28830486.13\n",
       "Name: total_exposed_stock, dtype: float64"
      ]
     },
     "execution_count": 4,
     "metadata": {},
     "output_type": "execute_result"
    }
   ],
   "source": [
    "df['total_exposed_stock'].iloc[:3]"
   ]
  },
  {
   "cell_type": "markdown",
   "metadata": {},
   "source": [
    "## Calculate recovery rates to speed up simulation"
   ]
  },
  {
   "cell_type": "code",
   "execution_count": 4,
   "metadata": {},
   "outputs": [],
   "source": [
    "# NOTE These parameters must match the ones used in the config file Example.yaml\n",
    "economic_params = {\n",
    "    \"average_productivity\": 0.25,\n",
    "    \"consumption_utility\": 1.5,\n",
    "    \"discount_rate\": 0.04,\n",
    "}\n",
    "recovery_params = {\"max_years\": 10, \"lambda_increment\": 0.01}\n",
    "\n",
    "# Generate vulnerabilities with exact 0.01 step\n",
    "dwelling_vulnerabilities = np.round(np.arange(0.2, 0.91, 0.01), 2)\n",
    "\n",
    "optimal_rates = precompute_reconstruction_rates(\n",
    "    economic_params, recovery_params, dwelling_vulnerabilities\n",
    ")\n",
    "\n",
    "optimal_rates.to_csv(\n",
    "        \"../../data/generated/Example/optimal_reconstruction_rates.csv\", index=False\n",
    "    )"
   ]
  }
 ],
 "metadata": {
  "kernelspec": {
   "display_name": "unbreakable",
   "language": "python",
   "name": "python3"
  },
  "language_info": {
   "codemirror_mode": {
    "name": "ipython",
    "version": 3
   },
   "file_extension": ".py",
   "mimetype": "text/x-python",
   "name": "python",
   "nbconvert_exporter": "python",
   "pygments_lexer": "ipython3",
   "version": "3.11.9"
  }
 },
 "nbformat": 4,
 "nbformat_minor": 2
}

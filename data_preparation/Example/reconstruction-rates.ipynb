{
 "cells": [
  {
   "cell_type": "code",
   "execution_count": 1,
   "metadata": {},
   "outputs": [],
   "source": [
    "import numpy as np\n",
    "from unbreakable.modules.household_recovery import precompute_reconstruction_rates"
   ]
  },
  {
   "cell_type": "code",
   "execution_count": 2,
   "metadata": {},
   "outputs": [],
   "source": [
    "# NOTE These parameters must match the ones used in the config file Example.yaml\n",
    "economic_params = {\n",
    "    \"average_productivity\": 0.25,\n",
    "    \"consumption_utility\": 1.5,\n",
    "    \"discount_rate\": 0.04,\n",
    "}\n",
    "recovery_params = {\"max_years\": 10, \"lambda_increment\": 0.01}\n",
    "\n",
    "# Generate vulnerabilities with exact 0.01 step\n",
    "dwelling_vulnerabilities = np.round(np.arange(0.2, 0.91, 0.01), 2)\n",
    "\n",
    "optimal_rates = precompute_reconstruction_rates(\n",
    "    economic_params, recovery_params, dwelling_vulnerabilities\n",
    ")\n",
    "\n",
    "optimal_rates.to_csv(\n",
    "        \"../../data/generated/Example/optimal_reconstruction_rates.csv\", index=False\n",
    "    )"
   ]
  }
 ],
 "metadata": {
  "kernelspec": {
   "display_name": "unbreakable",
   "language": "python",
   "name": "python3"
  },
  "language_info": {
   "codemirror_mode": {
    "name": "ipython",
    "version": 3
   },
   "file_extension": ".py",
   "mimetype": "text/x-python",
   "name": "python",
   "nbconvert_exporter": "python",
   "pygments_lexer": "ipython3",
   "version": "3.11.9"
  }
 },
 "nbformat": 4,
 "nbformat_minor": 2
}

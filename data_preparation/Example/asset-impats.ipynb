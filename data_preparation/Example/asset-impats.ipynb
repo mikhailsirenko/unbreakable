{
 "cells": [
  {
   "cell_type": "code",
   "execution_count": 1,
   "metadata": {},
   "outputs": [],
   "source": [
    "from unbreakable.utils.data_generator import *"
   ]
  },
  {
   "cell_type": "code",
   "execution_count": 2,
   "metadata": {},
   "outputs": [],
   "source": [
    "disaster_types = [\"flood\", \"hurricane\", \"earthquake\"]\n",
    "for disaster in disaster_types:\n",
    "    df = generate_asset_damage(disaster, num_spatial_units=3)\n",
    "    df.to_csv(\n",
    "        f\"../../data/processed/asset_impacts/Example/{disaster}.csv\", index=False\n",
    "    )"
   ]
  },
  {
   "cell_type": "code",
   "execution_count": 4,
   "metadata": {},
   "outputs": [
    {
     "data": {
      "text/html": [
       "<div>\n",
       "<style scoped>\n",
       "    .dataframe tbody tr th:only-of-type {\n",
       "        vertical-align: middle;\n",
       "    }\n",
       "\n",
       "    .dataframe tbody tr th {\n",
       "        vertical-align: top;\n",
       "    }\n",
       "\n",
       "    .dataframe thead th {\n",
       "        text-align: right;\n",
       "    }\n",
       "</style>\n",
       "<table border=\"1\" class=\"dataframe\">\n",
       "  <thead>\n",
       "    <tr style=\"text-align: right;\">\n",
       "      <th></th>\n",
       "      <th>disaster_type</th>\n",
       "      <th>spatial_unit</th>\n",
       "      <th>residential</th>\n",
       "      <th>non_residential</th>\n",
       "      <th>total_exposed_stock</th>\n",
       "      <th>rp</th>\n",
       "      <th>pml</th>\n",
       "      <th>loss_fraction</th>\n",
       "    </tr>\n",
       "  </thead>\n",
       "  <tbody>\n",
       "    <tr>\n",
       "      <th>0</th>\n",
       "      <td>earthquake</td>\n",
       "      <td>region_0</td>\n",
       "      <td>1.561810e+08</td>\n",
       "      <td>97535715.32</td>\n",
       "      <td>2.537167e+08</td>\n",
       "      <td>10</td>\n",
       "      <td>47495618.74</td>\n",
       "      <td>0.187</td>\n",
       "    </tr>\n",
       "    <tr>\n",
       "      <th>1</th>\n",
       "      <td>earthquake</td>\n",
       "      <td>region_1</td>\n",
       "      <td>1.897988e+08</td>\n",
       "      <td>57800932.02</td>\n",
       "      <td>2.475997e+08</td>\n",
       "      <td>10</td>\n",
       "      <td>37139955.70</td>\n",
       "      <td>0.150</td>\n",
       "    </tr>\n",
       "    <tr>\n",
       "      <th>2</th>\n",
       "      <td>earthquake</td>\n",
       "      <td>region_2</td>\n",
       "      <td>1.087125e+08</td>\n",
       "      <td>93308807.29</td>\n",
       "      <td>2.020213e+08</td>\n",
       "      <td>10</td>\n",
       "      <td>35174240.36</td>\n",
       "      <td>0.174</td>\n",
       "    </tr>\n",
       "    <tr>\n",
       "      <th>3</th>\n",
       "      <td>earthquake</td>\n",
       "      <td>region_0</td>\n",
       "      <td>2.062109e+08</td>\n",
       "      <td>51029224.71</td>\n",
       "      <td>2.572401e+08</td>\n",
       "      <td>50</td>\n",
       "      <td>68680790.78</td>\n",
       "      <td>0.267</td>\n",
       "    </tr>\n",
       "    <tr>\n",
       "      <th>4</th>\n",
       "      <td>earthquake</td>\n",
       "      <td>region_1</td>\n",
       "      <td>2.248664e+08</td>\n",
       "      <td>60616955.53</td>\n",
       "      <td>2.854834e+08</td>\n",
       "      <td>50</td>\n",
       "      <td>53722969.89</td>\n",
       "      <td>0.188</td>\n",
       "    </tr>\n",
       "  </tbody>\n",
       "</table>\n",
       "</div>"
      ],
      "text/plain": [
       "  disaster_type spatial_unit   residential  non_residential  \\\n",
       "0    earthquake     region_0  1.561810e+08      97535715.32   \n",
       "1    earthquake     region_1  1.897988e+08      57800932.02   \n",
       "2    earthquake     region_2  1.087125e+08      93308807.29   \n",
       "3    earthquake     region_0  2.062109e+08      51029224.71   \n",
       "4    earthquake     region_1  2.248664e+08      60616955.53   \n",
       "\n",
       "   total_exposed_stock  rp          pml  loss_fraction  \n",
       "0         2.537167e+08  10  47495618.74          0.187  \n",
       "1         2.475997e+08  10  37139955.70          0.150  \n",
       "2         2.020213e+08  10  35174240.36          0.174  \n",
       "3         2.572401e+08  50  68680790.78          0.267  \n",
       "4         2.854834e+08  50  53722969.89          0.188  "
      ]
     },
     "execution_count": 4,
     "metadata": {},
     "output_type": "execute_result"
    }
   ],
   "source": [
    "df.head()"
   ]
  }
 ],
 "metadata": {
  "kernelspec": {
   "display_name": "unbreakable",
   "language": "python",
   "name": "python3"
  },
  "language_info": {
   "codemirror_mode": {
    "name": "ipython",
    "version": 3
   },
   "file_extension": ".py",
   "mimetype": "text/x-python",
   "name": "python",
   "nbconvert_exporter": "python",
   "pygments_lexer": "ipython3",
   "version": "3.11.9"
  }
 },
 "nbformat": 4,
 "nbformat_minor": 2
}

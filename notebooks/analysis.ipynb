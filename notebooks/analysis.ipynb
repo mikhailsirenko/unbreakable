{
 "cells": [
  {
   "cell_type": "code",
   "execution_count": 154,
   "metadata": {},
   "outputs": [],
   "source": [
    "import pandas as pd\n",
    "import os\n",
    "import seaborn as sns\n",
    "import matplotlib.pyplot as plt\n",
    "import numpy as np"
   ]
  },
  {
   "attachments": {},
   "cell_type": "markdown",
   "metadata": {},
   "source": [
    "## Specify parameters"
   ]
  },
  {
   "attachments": {},
   "cell_type": "markdown",
   "metadata": {},
   "source": [
    "First we need to specify the paths to the experiment results. The structure of `experiments` folder is as folows. First goes the `country` name, then `state` or `district` name, then the name of the `policy` and finally `scenario`."
   ]
  },
  {
   "cell_type": "code",
   "execution_count": 137,
   "metadata": {},
   "outputs": [
    {
     "name": "stdout",
     "output_type": "stream",
     "text": [
      "Country: Saint Lucia\n",
      "Districts: ['AnseLaRayeCanaries', 'Castries', 'Choiseul', 'Dennery', 'Gros Islet', 'Laborie', 'Micoud', 'Soufriere', 'Vieuxfort']\n",
      "Policies: ['None', 'PDS']\n",
      "Scenarios: ['100']\n"
     ]
    }
   ],
   "source": [
    "country = 'Saint Lucia'\n",
    "districts = next(os.walk(f'../experiments/{country}'))[1]\n",
    "policies = next(os.walk(f'../experiments/{country}/{districts[0]}'))[1]\n",
    "scenarios = next(os.walk(f'../experiments/{country}/{districts[0]}/{policies[0]}'))[1]\n",
    "\n",
    "print(f'Country: {country}')\n",
    "print(f'Districts: {districts}')\n",
    "print(f'Policies: {policies}')\n",
    "print(f'Scenarios: {scenarios}')"
   ]
  },
  {
   "attachments": {},
   "cell_type": "markdown",
   "metadata": {},
   "source": [
    "## Load data"
   ]
  },
  {
   "attachments": {},
   "cell_type": "markdown",
   "metadata": {},
   "source": [
    "Now we can load the files of interest."
   ]
  },
  {
   "cell_type": "code",
   "execution_count": 48,
   "metadata": {},
   "outputs": [],
   "source": [
    "def _load_experiments():\n",
    "    pass"
   ]
  },
  {
   "cell_type": "code",
   "execution_count": 10,
   "metadata": {},
   "outputs": [],
   "source": [
    "# Files of interest:\n",
    "# * households\n",
    "# * affected_households\n",
    "# * impoverished_households\n",
    "# * households_weeks_in_poverty\n",
    "# * household_consumption_loss"
   ]
  },
  {
   "cell_type": "code",
   "execution_count": 11,
   "metadata": {},
   "outputs": [],
   "source": [
    "# TODO: Rename `households_data` into `households`?\n",
    "# TODO: Rename `affected_hh_data_...` into `affected_households`?"
   ]
  },
  {
   "cell_type": "code",
   "execution_count": null,
   "metadata": {},
   "outputs": [],
   "source": [
    "# To be loaded:\n",
    "# * households\n",
    "# * affected_households\n",
    "# * impoverished_households\n",
    "# * households_weeks_in_poverty\n",
    "# * household_consumption_loss"
   ]
  },
  {
   "cell_type": "code",
   "execution_count": 139,
   "metadata": {},
   "outputs": [],
   "source": [
    "# ?: Aggregate over the replications?\n",
    "\n",
    "# Outcomes structure: district -> policy -> scenario -> outcome -> data -> replication -> value\n",
    "outcomes = {}\n",
    "for district in districts:\n",
    "    outcomes[district] = {}\n",
    "    for policy in policies:\n",
    "        outcomes[district][policy] = {}\n",
    "        for scenario in scenarios:\n",
    "            outcomes[district][policy][scenario] = {}\n",
    "            path = f'../experiments/{country}/{district}/{policy}/{scenario}/'\n",
    "            households = pd.read_csv(path + 'household_data.csv')\n",
    "            affected_households = pd.read_csv(path + 'hh_is_affected.csv', index_col=0)\n",
    "            impoverished_households = pd.read_csv(path + 'hh_is_impoverished.csv', index_col=0)\n",
    "            households_weeks_in_poverty = pd.read_csv(path + 'hh_weeks_pov.csv', index_col=0)\n",
    "            household_consumption_loss = pd.read_csv(path + 'hh_consumption_loss.csv', index_col=0)\n",
    "            # * drm costs - Disaster Risk Management costs\n",
    "            # drm_costs = pd.read_csv(path + 'hh_DRM_cost.csv', index_col=0)\n",
    "            outcomes[district][policy][scenario]['households'] = households\n",
    "            outcomes[district][policy][scenario]['affected_households'] = affected_households\n",
    "            outcomes[district][policy][scenario]['impoverished_households'] = impoverished_households\n",
    "            outcomes[district][policy][scenario]['households_weeks_in_poverty'] = households_weeks_in_poverty\n",
    "            outcomes[district][policy][scenario]['household_consumption_loss'] = household_consumption_loss\n",
    "            # outcomes[district][policy][scenario]['drm_costs'] = drm_costs\n"
   ]
  },
  {
   "cell_type": "code",
   "execution_count": 91,
   "metadata": {},
   "outputs": [],
   "source": [
    "# Consumption loss and poverty impacts"
   ]
  },
  {
   "cell_type": "code",
   "execution_count": 146,
   "metadata": {},
   "outputs": [],
   "source": [
    "d = {}\n",
    "for policy in policies:\n",
    "    data = pd.DataFrame()\n",
    "    for district in districts:\n",
    "        households = outcomes[district][policy][scenario]['households']\n",
    "        household_consumption_loss = outcomes[district][policy][scenario]['household_consumption_loss']\n",
    "        df = pd.DataFrame()\n",
    "        df['mean_household_consumption_loss'] = household_consumption_loss.mean(axis=1)\n",
    "        df['popwgt'] = households['popwgt']\n",
    "        df['aeexp'] = households['aeexp']\n",
    "        df['mean_consumption_loss'] = (df['mean_household_consumption_loss'] / df['popwgt']) * 100\n",
    "        df['is_poor'] = households['is_poor']\n",
    "        df['district'] = district\n",
    "    data = pd.concat([data, df])\n",
    "    data.sort_index(inplace=True)\n",
    "    d[policy] = df"
   ]
  },
  {
   "cell_type": "code",
   "execution_count": 147,
   "metadata": {},
   "outputs": [],
   "source": [
    "# ?: Should I do rescaling here? I think we already did that in `_adjust_asset_and_expenditure()`"
   ]
  },
  {
   "cell_type": "code",
   "execution_count": 161,
   "metadata": {},
   "outputs": [
    {
     "name": "stdout",
     "output_type": "stream",
     "text": [
      "Policy: None\n",
      " : 0.07676\n",
      " : 0.91549\n",
      "Policy: PDS\n",
      " : 0.06108\n",
      " : 0.92677\n"
     ]
    },
    {
     "data": {
      "image/png": "[encoded data removed]",
      "text/plain": [
       "<Figure size 720x240 with 2 Axes>"
      ]
     },
     "metadata": {},
     "output_type": "display_data"
    }
   ],
   "source": [
    "ncols = 2\n",
    "fig, ax = plt.subplots(ncols=ncols, figsize=(12, 4))\n",
    "for i, policy in enumerate(policies):\n",
    "    print(f'Policy: {policy}')\n",
    "    df = d[policy]\n",
    "    # ?: What's that?\n",
    "    print(' :', round(df.loc[df['mean_household_consumption_loss'] > 50, 'popwgt'].sum() / df['popwgt'].sum(), 5))\n",
    "    print(' :', round(df.loc[df['mean_household_consumption_loss'] < 20, 'popwgt'].sum() / df['popwgt'].sum(), 5))    \n",
    "    column = 'mean_household_consumption_loss'\n",
    "    sns.histplot(data=df, x=column, weights='popwgt', bins=10, label=policy, ax=ax[i]);\n",
    "    ax[i].set_xlabel('Average consumption loss (USD)')\n",
    "    ax[i].legend(title='Policy');\n",
    "fig.tight_layout()"
   ]
  },
  {
   "attachments": {},
   "cell_type": "markdown",
   "metadata": {},
   "source": [
    "## Do analysis"
   ]
  },
  {
   "cell_type": "code",
   "execution_count": null,
   "metadata": {},
   "outputs": [],
   "source": []
  }
 ],
 "metadata": {
  "kernelspec": {
   "display_name": "unbk",
   "language": "python",
   "name": "python3"
  },
  "language_info": {
   "codemirror_mode": {
    "name": "ipython",
    "version": 3
   },
   "file_extension": ".py",
   "mimetype": "text/x-python",
   "name": "python",
   "nbconvert_exporter": "python",
   "pygments_lexer": "ipython3",
   "version": "3.8.16"
  },
  "orig_nbformat": 4
 },
 "nbformat": 4,
 "nbformat_minor": 2
}

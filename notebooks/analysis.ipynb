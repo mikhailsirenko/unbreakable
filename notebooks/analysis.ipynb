{
 "cells": [
  {
   "cell_type": "code",
   "execution_count": 107,
   "metadata": {},
   "outputs": [],
   "source": [
    "import pandas as pd\n",
    "import os\n",
    "import seaborn as sns\n",
    "import numpy as np"
   ]
  },
  {
   "cell_type": "code",
   "execution_count": 135,
   "metadata": {},
   "outputs": [],
   "source": [
    "aal = pd.read_excel('../data/raw/asset_damage/Saint Lucia/AAL Results 19022016 StLucia FinalSummary2.xlsx', sheet_name='AAL St. Lucia Province', header=1)\n",
    "aal.set_index('Name', inplace=True)\n",
    "aal = aal[['AAL as % of Total AAL']]\n",
    "aal = aal[aal.index.notnull()]\n",
    "# pml = aal.multiply(total_pml[self.return_period])\n",
    "# df = pd.merge(df, pml, left_on='District', right_index=True)\n",
    "# df.to_excel(\n",
    "#     f'../data/processed/asset_damage/{self.country}/{self.country}.xlsx', index=False)"
   ]
  },
  {
   "cell_type": "code",
   "execution_count": 136,
   "metadata": {},
   "outputs": [
    {
     "data": {
      "text/html": [
       "<div>\n",
       "<style scoped>\n",
       "    .dataframe tbody tr th:only-of-type {\n",
       "        vertical-align: middle;\n",
       "    }\n",
       "\n",
       "    .dataframe tbody tr th {\n",
       "        vertical-align: top;\n",
       "    }\n",
       "\n",
       "    .dataframe thead th {\n",
       "        text-align: right;\n",
       "    }\n",
       "</style>\n",
       "<table border=\"1\" class=\"dataframe\">\n",
       "  <thead>\n",
       "    <tr style=\"text-align: right;\">\n",
       "      <th></th>\n",
       "      <th>AAL as % of Total AAL</th>\n",
       "    </tr>\n",
       "    <tr>\n",
       "      <th>Name</th>\n",
       "      <th></th>\n",
       "    </tr>\n",
       "  </thead>\n",
       "  <tbody>\n",
       "    <tr>\n",
       "      <th>AnseLaRayeCanaries</th>\n",
       "      <td>0.017227</td>\n",
       "    </tr>\n",
       "    <tr>\n",
       "      <th>Dennery</th>\n",
       "      <td>0.044604</td>\n",
       "    </tr>\n",
       "    <tr>\n",
       "      <th>Gros Islet</th>\n",
       "      <td>0.182812</td>\n",
       "    </tr>\n",
       "    <tr>\n",
       "      <th>Laborie</th>\n",
       "      <td>0.034031</td>\n",
       "    </tr>\n",
       "    <tr>\n",
       "      <th>Choiseul</th>\n",
       "      <td>0.018592</td>\n",
       "    </tr>\n",
       "    <tr>\n",
       "      <th>Micoud</th>\n",
       "      <td>0.079705</td>\n",
       "    </tr>\n",
       "    <tr>\n",
       "      <th>Soufriere</th>\n",
       "      <td>0.02808</td>\n",
       "    </tr>\n",
       "    <tr>\n",
       "      <th>Vieuxfort</th>\n",
       "      <td>0.071302</td>\n",
       "    </tr>\n",
       "    <tr>\n",
       "      <th>Canaries</th>\n",
       "      <td>0.004226</td>\n",
       "    </tr>\n",
       "    <tr>\n",
       "      <th>Castries</th>\n",
       "      <td>0.519422</td>\n",
       "    </tr>\n",
       "  </tbody>\n",
       "</table>\n",
       "</div>"
      ],
      "text/plain": [
       "                   AAL as % of Total AAL\n",
       "Name                                    \n",
       "AnseLaRayeCanaries              0.017227\n",
       "Dennery                         0.044604\n",
       "Gros Islet                      0.182812\n",
       "Laborie                         0.034031\n",
       "Choiseul                        0.018592\n",
       "Micoud                          0.079705\n",
       "Soufriere                        0.02808\n",
       "Vieuxfort                       0.071302\n",
       "Canaries                        0.004226\n",
       "Castries                        0.519422"
      ]
     },
     "execution_count": 136,
     "metadata": {},
     "output_type": "execute_result"
    }
   ],
   "source": [
    "aal"
   ]
  },
  {
   "cell_type": "code",
   "execution_count": 134,
   "metadata": {},
   "outputs": [
    {
     "ename": "NameError",
     "evalue": "name 'index' is not defined",
     "output_type": "error",
     "traceback": [
      "\u001b[1;31m---------------------------------------------------------------------------\u001b[0m",
      "\u001b[1;31mNameError\u001b[0m                                 Traceback (most recent call last)",
      "Cell \u001b[1;32mIn[134], line 2\u001b[0m\n\u001b[0;32m      1\u001b[0m \u001b[39m# Drop all rows where index is \u001b[39;00m\n\u001b[1;32m----> 2\u001b[0m aal\u001b[39m.\u001b[39mdropna(axis\u001b[39m=\u001b[39m\u001b[39m0\u001b[39m, subset\u001b[39m=\u001b[39mindex)\n",
      "\u001b[1;31mNameError\u001b[0m: name 'index' is not defined"
     ]
    }
   ],
   "source": [
    "# Drop all rows where index is \n",
    "aal.dropna(axis=0, subset=index)"
   ]
  },
  {
   "cell_type": "code",
   "execution_count": 124,
   "metadata": {},
   "outputs": [
    {
     "data": {
      "text/plain": [
       "0    0.017227\n",
       "1    0.044604\n",
       "2    0.182812\n",
       "3    0.034031\n",
       "4    0.018592\n",
       "5    0.079705\n",
       "6    0.028080\n",
       "7    0.071302\n",
       "8    0.004226\n",
       "9    0.519422\n",
       "Name: AAL as % of Total AAL, dtype: float64"
      ]
     },
     "execution_count": 124,
     "metadata": {},
     "output_type": "execute_result"
    }
   ],
   "source": [
    "aal['AAL as % of Total AAL']"
   ]
  },
  {
   "attachments": {},
   "cell_type": "markdown",
   "metadata": {},
   "source": [
    "## Specify parameters"
   ]
  },
  {
   "attachments": {},
   "cell_type": "markdown",
   "metadata": {},
   "source": [
    "First we need to specify the paths to the experiment results. The structure of `experiments` folder is as folows. First goes the `country` name, then `state` or `district` name, then the name of the `policy` and finally `scenario`."
   ]
  },
  {
   "cell_type": "code",
   "execution_count": 56,
   "metadata": {},
   "outputs": [
    {
     "name": "stdout",
     "output_type": "stream",
     "text": [
      "Country: Saint Lucia\n",
      "Districts: ['Saint Lucia']\n",
      "Policies: ['None', 'PDS']\n",
      "Scenarios: ['100']\n"
     ]
    }
   ],
   "source": [
    "country = 'Saint Lucia'\n",
    "districts = next(os.walk(f'../experiments/{country}'))[1]\n",
    "policies = next(os.walk(f'../experiments/{country}/{districts[0]}'))[1]\n",
    "scenarios = next(os.walk(f'../experiments/{country}/{districts[0]}/{policies[0]}'))[1]\n",
    "\n",
    "print(f'Country: {country}')\n",
    "print(f'Districts: {districts}')\n",
    "print(f'Policies: {policies}')\n",
    "print(f'Scenarios: {scenarios}')"
   ]
  },
  {
   "attachments": {},
   "cell_type": "markdown",
   "metadata": {},
   "source": [
    "## Load data"
   ]
  },
  {
   "attachments": {},
   "cell_type": "markdown",
   "metadata": {},
   "source": [
    "Now we can load the files of interest."
   ]
  },
  {
   "cell_type": "code",
   "execution_count": 48,
   "metadata": {},
   "outputs": [],
   "source": [
    "def _load_experiments():\n",
    "    pass"
   ]
  },
  {
   "cell_type": "code",
   "execution_count": 10,
   "metadata": {},
   "outputs": [],
   "source": [
    "# Files of interest:\n",
    "# * households\n",
    "# * affected_households\n",
    "# * impoverished_households\n",
    "# * households_weeks_in_poverty\n",
    "# * household_consumption_loss"
   ]
  },
  {
   "cell_type": "code",
   "execution_count": 11,
   "metadata": {},
   "outputs": [],
   "source": [
    "# TODO: Rename `households_data` into `households`?\n",
    "# TODO: Rename `affected_hh_data_...` into `affected_households`?"
   ]
  },
  {
   "cell_type": "code",
   "execution_count": null,
   "metadata": {},
   "outputs": [],
   "source": [
    "# To be loaded:\n",
    "# * households\n",
    "# * affected_households\n",
    "# * impoverished_households\n",
    "# * households_weeks_in_poverty\n",
    "# * household_consumption_loss"
   ]
  },
  {
   "cell_type": "code",
   "execution_count": 90,
   "metadata": {},
   "outputs": [],
   "source": [
    "# ?: Aggregate over the replications?\n",
    "\n",
    "# Outcomes structure: district -> policy -> scenario -> outcome -> data -> replication -> value\n",
    "outcomes = {}\n",
    "for district in districts:\n",
    "    outcomes[district] = {}\n",
    "    for policy in policies:\n",
    "        outcomes[district][policy] = {}\n",
    "        for scenario in scenarios:\n",
    "            outcomes[district][policy][scenario] = {}\n",
    "            path = f'../experiments/{country}/{district}/{policy}/{scenario}/'\n",
    "            households = pd.read_csv(path + 'household_data.csv')\n",
    "            affected_households = pd.read_csv(path + 'hh_is_affected.csv', index_col=0)\n",
    "            impoverished_households = pd.read_csv(path + 'hh_is_impoverished.csv', index_col=0)\n",
    "            households_weeks_in_poverty = pd.read_csv(path + 'hh_weeks_pov.csv', index_col=0)\n",
    "            household_consumption_loss = pd.read_csv(path + 'hh_consumption_loss.csv', index_col=0)\n",
    "            # * drm costs - Disaster Risk Management costs\n",
    "            # drm_costs = pd.read_csv(path + 'hh_DRM_cost.csv', index_col=0)\n",
    "            outcomes[district][policy][scenario]['households'] = households\n",
    "            outcomes[district][policy][scenario]['affected_households'] = affected_households\n",
    "            outcomes[district][policy][scenario]['impoverished_households'] = impoverished_households\n",
    "            outcomes[district][policy][scenario]['households_weeks_in_poverty'] = households_weeks_in_poverty\n",
    "            outcomes[district][policy][scenario]['household_consumption_loss'] = household_consumption_loss\n",
    "            # outcomes[district][policy][scenario]['drm_costs'] = drm_costs\n"
   ]
  },
  {
   "cell_type": "code",
   "execution_count": 91,
   "metadata": {},
   "outputs": [],
   "source": [
    "# Consumption loss and poverty impacts"
   ]
  },
  {
   "cell_type": "code",
   "execution_count": 95,
   "metadata": {},
   "outputs": [],
   "source": [
    "d = {}\n",
    "for policy in policies:\n",
    "    data = pd.DataFrame()\n",
    "    for district in districts:\n",
    "        households = outcomes[district][policy][scenario]['households']\n",
    "        household_consumption_loss = outcomes[district]['PDS'][scenario]['household_consumption_loss']\n",
    "        df = pd.DataFrame()\n",
    "        df['mean_household_consumption_loss'] = household_consumption_loss.mean(axis=1)\n",
    "        df['popwgt'] = households['popwgt']\n",
    "        df['aeexp'] = households['aeexp']\n",
    "        df['mean_consumption_loss'] = (df['mean_household_consumption_loss'] / df['popwgt']) * 100\n",
    "        df['is_poor'] = households['is_poor']\n",
    "        df['district'] = district\n",
    "    data = pd.concat([data, df])\n",
    "    data.sort_index(inplace=True)\n",
    "    d[policy] = df"
   ]
  },
  {
   "cell_type": "code",
   "execution_count": null,
   "metadata": {},
   "outputs": [],
   "source": [
    "# ?: Should I do rescaling here? I think we already did that in `_adjust_asset_and_expenditure()`"
   ]
  },
  {
   "cell_type": "code",
   "execution_count": 119,
   "metadata": {},
   "outputs": [
    {
     "name": "stdout",
     "output_type": "stream",
     "text": [
      "0.15731\n",
      "0.83704\n"
     ]
    }
   ],
   "source": [
    "# ?: What's that?\n",
    "print(round(df.loc[df['mean_household_consumption_loss'] > 50, 'popwgt'].sum() / df['popwgt'].sum(), 5))\n",
    "print(round(df.loc[df['mean_household_consumption_loss'] < 20, 'popwgt'].sum() / df['popwgt'].sum(), 5))"
   ]
  },
  {
   "cell_type": "code",
   "execution_count": 118,
   "metadata": {},
   "outputs": [
    {
     "data": {
      "image/png": "[encoded data removed]",
      "text/plain": [
       "<Figure size 384x288 with 1 Axes>"
      ]
     },
     "metadata": {},
     "output_type": "display_data"
    }
   ],
   "source": [
    "column = 'mean_household_consumption_loss'\n",
    "ax = sns.histplot(data=df, x=column, weights='popwgt', bins=10, label='No policy');\n",
    "ax.set_xlabel('Average consumption loss (USD)')\n",
    "ax.legend(title='Policy');"
   ]
  },
  {
   "attachments": {},
   "cell_type": "markdown",
   "metadata": {},
   "source": [
    "## Do analysis"
   ]
  },
  {
   "cell_type": "code",
   "execution_count": null,
   "metadata": {},
   "outputs": [],
   "source": []
  }
 ],
 "metadata": {
  "kernelspec": {
   "display_name": "unbk",
   "language": "python",
   "name": "python3"
  },
  "language_info": {
   "codemirror_mode": {
    "name": "ipython",
    "version": 3
   },
   "file_extension": ".py",
   "mimetype": "text/x-python",
   "name": "python",
   "nbconvert_exporter": "python",
   "pygments_lexer": "ipython3",
   "version": "3.8.16"
  },
  "orig_nbformat": 4
 },
 "nbformat": 4,
 "nbformat_minor": 2
}

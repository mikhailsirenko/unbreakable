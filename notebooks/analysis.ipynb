{
 "cells": [
  {
   "cell_type": "code",
   "execution_count": 39,
   "metadata": {},
   "outputs": [],
   "source": [
    "import pandas as pd\n",
    "import os\n",
    "import seaborn as sns\n",
    "import matplotlib.pyplot as plt\n",
    "import numpy as np\n",
    "from tqdm import tqdm"
   ]
  },
  {
   "attachments": {},
   "cell_type": "markdown",
   "metadata": {},
   "source": [
    "## Specify parameters"
   ]
  },
  {
   "attachments": {},
   "cell_type": "markdown",
   "metadata": {},
   "source": [
    "First we need to specify the paths to the experiment results. The structure of `experiments` folder is as folows. First goes the `country` name, then `state` or `district` name, then the name of the `policy` and finally `scenario`."
   ]
  },
  {
   "cell_type": "code",
   "execution_count": 34,
   "metadata": {},
   "outputs": [
    {
     "name": "stdout",
     "output_type": "stream",
     "text": [
      "Country: Saint Lucia\n",
      "Districts: ['AnseLaRayeCanaries', 'Castries', 'Choiseul', 'Dennery', 'Gros Islet', 'Laborie', 'Micoud', 'Soufriere', 'Vieuxfort']\n",
      "Policies: ['None', 'PDS']\n",
      "Scenarios: ['100']\n",
      "Replications: 100\n"
     ]
    }
   ],
   "source": [
    "country = 'Saint Lucia'\n",
    "districts = next(os.walk(f'../experiments/{country}'))[1]\n",
    "policies = next(os.walk(f'../experiments/{country}/{districts[0]}'))[1]\n",
    "scenarios = next(os.walk(f'../experiments/{country}/{districts[0]}/{policies[0]}'))[1]\n",
    "file_name = 'hh_asset_loss'\n",
    "path = f'../experiments/{country}/{districts[0]}/{policies[0]}/{scenarios[0]}/{file_name}.csv'\n",
    "df = pd.read_csv(path, index_col=0)\n",
    "n_replications = df.shape[1]\n",
    "\n",
    "print(f'Country: {country}')\n",
    "print(f'Districts: {districts}')\n",
    "print(f'Policies: {policies}')\n",
    "print(f'Scenarios: {scenarios}')\n",
    "print(f'Replications: {n_replications}')"
   ]
  },
  {
   "attachments": {},
   "cell_type": "markdown",
   "metadata": {},
   "source": [
    "## Load data"
   ]
  },
  {
   "attachments": {},
   "cell_type": "markdown",
   "metadata": {},
   "source": [
    "Now we can load the files of interest."
   ]
  },
  {
   "cell_type": "code",
   "execution_count": 4,
   "metadata": {},
   "outputs": [],
   "source": [
    "def _load_experiments():\n",
    "    pass\n",
    "def _get_ids_of_affected_households():\n",
    "    pass"
   ]
  },
  {
   "cell_type": "code",
   "execution_count": 47,
   "metadata": {},
   "outputs": [
    {
     "name": "stderr",
     "output_type": "stream",
     "text": [
      "100%|██████████| 9/9 [00:04<00:00,  2.03it/s]\n"
     ]
    }
   ],
   "source": [
    "ids = {}\n",
    "for district in tqdm(districts):\n",
    "    ids[district] = {}\n",
    "    for policy in policies:\n",
    "        ids[district][policy] = {}\n",
    "        for scenario in scenarios:\n",
    "            ids[district][policy][scenario] = {}\n",
    "            path = f'../experiments/{country}/{district}/{policy}/{scenario}/'\n",
    "            for replication in range(n_replications):\n",
    "                df = pd.read_csv(path + f'affected_hh_data_replication_{replication}.csv')\n",
    "                ids[district][policy][scenario][replication] = df['hhid'].tolist()"
   ]
  },
  {
   "cell_type": "code",
   "execution_count": 48,
   "metadata": {},
   "outputs": [],
   "source": [
    "# Outcomes structure: district -> policy -> scenario -> outcome -> data -> replication -> value\n",
    "outcomes = {}\n",
    "for district in districts:\n",
    "    outcomes[district] = {}\n",
    "    for policy in policies:\n",
    "        outcomes[district][policy] = {}\n",
    "        for scenario in scenarios:\n",
    "            outcomes[district][policy][scenario] = {}\n",
    "            path = f'../experiments/{country}/{district}/{policy}/{scenario}/'\n",
    "            households = pd.read_csv(path + 'household_data.csv')\n",
    "            affected_households = pd.read_csv(path + 'hh_is_affected.csv', index_col=0)\n",
    "            impoverished_households = pd.read_csv(path + 'hh_is_impoverished.csv', index_col=0)\n",
    "            households_weeks_in_poverty = pd.read_csv(path + 'hh_weeks_pov.csv', index_col=0)\n",
    "\n",
    "            # Units for the household consumption loss are in USD\n",
    "\n",
    "            household_consumption_loss = pd.read_csv(path + 'hh_consumption_loss.csv', index_col=0)\n",
    "            # * drm costs - Disaster Risk Management costs\n",
    "            # drm_costs = pd.read_csv(path + 'hh_DRM_cost.csv', index_col=0)\n",
    "            outcomes[district][policy][scenario]['households'] = households\n",
    "            outcomes[district][policy][scenario]['affected_households'] = affected_households\n",
    "            outcomes[district][policy][scenario]['impoverished_households'] = impoverished_households\n",
    "            outcomes[district][policy][scenario]['households_weeks_in_poverty'] = households_weeks_in_poverty\n",
    "            outcomes[district][policy][scenario]['household_consumption_loss'] = household_consumption_loss\n",
    "            # outcomes[district][policy][scenario]['drm_costs'] = drm_costs\n"
   ]
  },
  {
   "cell_type": "code",
   "execution_count": 6,
   "metadata": {},
   "outputs": [],
   "source": [
    "# Consumption loss and poverty impacts"
   ]
  },
  {
   "cell_type": "code",
   "execution_count": 50,
   "metadata": {},
   "outputs": [
    {
     "data": {
      "text/plain": [
       "62"
      ]
     },
     "execution_count": 50,
     "metadata": {},
     "output_type": "execute_result"
    }
   ],
   "source": [
    "len(ids[district][policy][scenario][replication])"
   ]
  },
  {
   "cell_type": "code",
   "execution_count": 55,
   "metadata": {},
   "outputs": [
    {
     "data": {
      "text/plain": [
       "55"
      ]
     },
     "execution_count": 55,
     "metadata": {},
     "output_type": "execute_result"
    }
   ],
   "source": [
    "(outcomes[district][policy][scenario]['household_consumption_loss']['replication_99'] > 0).sum()"
   ]
  },
  {
   "cell_type": "code",
   "execution_count": 56,
   "metadata": {},
   "outputs": [
    {
     "data": {
      "text/plain": [
       "('Vieuxfort', 'PDS', '100', 99)"
      ]
     },
     "execution_count": 56,
     "metadata": {},
     "output_type": "execute_result"
    }
   ],
   "source": [
    "district, policy, scenario, replication"
   ]
  },
  {
   "cell_type": "code",
   "execution_count": 36,
   "metadata": {},
   "outputs": [
    {
     "name": "stdout",
     "output_type": "stream",
     "text": [
      "Mean household consumption loss per affected household in AnseLaRayeCanaries: 116\n",
      "Mean household consumption loss per affected household in Castries: 116\n",
      "Mean household consumption loss per affected household in Choiseul: 116\n",
      "Mean household consumption loss per affected household in Dennery: 116\n",
      "Mean household consumption loss per affected household in Gros Islet: 116\n",
      "Mean household consumption loss per affected household in Laborie: 116\n",
      "Mean household consumption loss per affected household in Micoud: 116\n",
      "Mean household consumption loss per affected household in Soufriere: 116\n",
      "Mean household consumption loss per affected household in Vieuxfort: 116\n",
      "Mean household consumption loss per affected household in AnseLaRayeCanaries: 116\n",
      "Mean household consumption loss per affected household in Castries: 116\n",
      "Mean household consumption loss per affected household in Choiseul: 116\n",
      "Mean household consumption loss per affected household in Dennery: 116\n",
      "Mean household consumption loss per affected household in Gros Islet: 116\n",
      "Mean household consumption loss per affected household in Laborie: 116\n",
      "Mean household consumption loss per affected household in Micoud: 116\n",
      "Mean household consumption loss per affected household in Soufriere: 116\n",
      "Mean household consumption loss per affected household in Vieuxfort: 116\n"
     ]
    }
   ],
   "source": [
    "d = {}\n",
    "for policy in policies:\n",
    "    data = {}\n",
    "    for district in districts:\n",
    "        households = outcomes[district][policy][scenario]['households']\n",
    "        # i =  \n",
    "        household_consumption_loss = outcomes[district][policy][scenario]['household_consumption_loss']\n",
    "        df = pd.DataFrame()\n",
    "        \n",
    "        # Subset households with positive consumption loss\n",
    "        index = household_consumption_loss[household_consumption_loss.mean(axis=1) > 0].index\n",
    "\n",
    "        # Mean meaning across replications\n",
    "        df['mean_household_consumption_loss'] = household_consumption_loss.loc[index,:].mean(axis=1)\n",
    "        df.index = index\n",
    "        df = pd.merge(df, households[['popwgt', 'is_poor', 'district']], left_index=True, right_index=True, how='right')\n",
    "        df.fillna(0, inplace=True)\n",
    "        df['mean_consumption_loss'] = (df['mean_household_consumption_loss'] / df['popwgt']) * 100\n",
    "        df.columns = ['mean_household_consumption_loss', \n",
    "                      'mean_consumption_loss', \n",
    "                      'popwgt', 'is_poor', 'district'] \n",
    "        data[district] = df\n",
    "        print(f'Mean household consumption loss per affected household in {district}: {round(df[\"mean_consumption_loss\"].mean())}')\n",
    "    data = pd.concat(data.values())\n",
    "    d[policy] = data"
   ]
  },
  {
   "cell_type": "code",
   "execution_count": null,
   "metadata": {},
   "outputs": [],
   "source": []
  },
  {
   "cell_type": "code",
   "execution_count": 31,
   "metadata": {},
   "outputs": [
    {
     "data": {
      "text/html": [
       "<div>\n",
       "<style scoped>\n",
       "    .dataframe tbody tr th:only-of-type {\n",
       "        vertical-align: middle;\n",
       "    }\n",
       "\n",
       "    .dataframe tbody tr th {\n",
       "        vertical-align: top;\n",
       "    }\n",
       "\n",
       "    .dataframe thead th {\n",
       "        text-align: right;\n",
       "    }\n",
       "</style>\n",
       "<table border=\"1\" class=\"dataframe\">\n",
       "  <thead>\n",
       "    <tr style=\"text-align: right;\">\n",
       "      <th></th>\n",
       "      <th>replication_0</th>\n",
       "      <th>replication_1</th>\n",
       "      <th>replication_2</th>\n",
       "      <th>replication_3</th>\n",
       "      <th>replication_4</th>\n",
       "      <th>replication_5</th>\n",
       "      <th>replication_6</th>\n",
       "      <th>replication_7</th>\n",
       "      <th>replication_8</th>\n",
       "      <th>replication_9</th>\n",
       "      <th>...</th>\n",
       "      <th>replication_90</th>\n",
       "      <th>replication_91</th>\n",
       "      <th>replication_92</th>\n",
       "      <th>replication_93</th>\n",
       "      <th>replication_94</th>\n",
       "      <th>replication_95</th>\n",
       "      <th>replication_96</th>\n",
       "      <th>replication_97</th>\n",
       "      <th>replication_98</th>\n",
       "      <th>replication_99</th>\n",
       "    </tr>\n",
       "  </thead>\n",
       "  <tbody>\n",
       "    <tr>\n",
       "      <th>0</th>\n",
       "      <td>-0.000000</td>\n",
       "      <td>-0.0</td>\n",
       "      <td>-0.0</td>\n",
       "      <td>712.005064</td>\n",
       "      <td>-0.0</td>\n",
       "      <td>-0.000000</td>\n",
       "      <td>-0.000000</td>\n",
       "      <td>-0.0</td>\n",
       "      <td>-0.0</td>\n",
       "      <td>-0.0</td>\n",
       "      <td>...</td>\n",
       "      <td>-0.0</td>\n",
       "      <td>-0.000000</td>\n",
       "      <td>-0.0</td>\n",
       "      <td>-0.000000</td>\n",
       "      <td>-0.000000</td>\n",
       "      <td>-0.0</td>\n",
       "      <td>-0.0</td>\n",
       "      <td>-0.000000</td>\n",
       "      <td>480.206032</td>\n",
       "      <td>-0.000000</td>\n",
       "    </tr>\n",
       "    <tr>\n",
       "      <th>1</th>\n",
       "      <td>-0.000000</td>\n",
       "      <td>-0.0</td>\n",
       "      <td>-0.0</td>\n",
       "      <td>-0.000000</td>\n",
       "      <td>-0.0</td>\n",
       "      <td>-0.000000</td>\n",
       "      <td>-0.000000</td>\n",
       "      <td>-0.0</td>\n",
       "      <td>0.0</td>\n",
       "      <td>-0.0</td>\n",
       "      <td>...</td>\n",
       "      <td>-0.0</td>\n",
       "      <td>-0.000000</td>\n",
       "      <td>-0.0</td>\n",
       "      <td>-0.000000</td>\n",
       "      <td>-0.000000</td>\n",
       "      <td>-0.0</td>\n",
       "      <td>-0.0</td>\n",
       "      <td>-0.000000</td>\n",
       "      <td>-0.000000</td>\n",
       "      <td>-0.000000</td>\n",
       "    </tr>\n",
       "    <tr>\n",
       "      <th>2</th>\n",
       "      <td>412.918895</td>\n",
       "      <td>-0.0</td>\n",
       "      <td>-0.0</td>\n",
       "      <td>-0.000000</td>\n",
       "      <td>-0.0</td>\n",
       "      <td>1261.924791</td>\n",
       "      <td>-0.000000</td>\n",
       "      <td>-0.0</td>\n",
       "      <td>-0.0</td>\n",
       "      <td>-0.0</td>\n",
       "      <td>...</td>\n",
       "      <td>-0.0</td>\n",
       "      <td>-0.000000</td>\n",
       "      <td>-0.0</td>\n",
       "      <td>-0.000000</td>\n",
       "      <td>-0.000000</td>\n",
       "      <td>-0.0</td>\n",
       "      <td>-0.0</td>\n",
       "      <td>936.124449</td>\n",
       "      <td>-0.000000</td>\n",
       "      <td>-0.000000</td>\n",
       "    </tr>\n",
       "    <tr>\n",
       "      <th>3</th>\n",
       "      <td>-0.000000</td>\n",
       "      <td>-0.0</td>\n",
       "      <td>-0.0</td>\n",
       "      <td>-0.000000</td>\n",
       "      <td>-0.0</td>\n",
       "      <td>-0.000000</td>\n",
       "      <td>-0.000000</td>\n",
       "      <td>-0.0</td>\n",
       "      <td>-0.0</td>\n",
       "      <td>-0.0</td>\n",
       "      <td>...</td>\n",
       "      <td>-0.0</td>\n",
       "      <td>-0.000000</td>\n",
       "      <td>-0.0</td>\n",
       "      <td>-0.000000</td>\n",
       "      <td>-0.000000</td>\n",
       "      <td>-0.0</td>\n",
       "      <td>-0.0</td>\n",
       "      <td>-0.000000</td>\n",
       "      <td>-0.000000</td>\n",
       "      <td>-0.000000</td>\n",
       "    </tr>\n",
       "    <tr>\n",
       "      <th>4</th>\n",
       "      <td>-0.000000</td>\n",
       "      <td>-0.0</td>\n",
       "      <td>-0.0</td>\n",
       "      <td>-0.000000</td>\n",
       "      <td>-0.0</td>\n",
       "      <td>-0.000000</td>\n",
       "      <td>-0.000000</td>\n",
       "      <td>-0.0</td>\n",
       "      <td>-0.0</td>\n",
       "      <td>-0.0</td>\n",
       "      <td>...</td>\n",
       "      <td>-0.0</td>\n",
       "      <td>-0.000000</td>\n",
       "      <td>-0.0</td>\n",
       "      <td>959.448163</td>\n",
       "      <td>-0.000000</td>\n",
       "      <td>-0.0</td>\n",
       "      <td>-0.0</td>\n",
       "      <td>-0.000000</td>\n",
       "      <td>-0.000000</td>\n",
       "      <td>-0.000000</td>\n",
       "    </tr>\n",
       "    <tr>\n",
       "      <th>...</th>\n",
       "      <td>...</td>\n",
       "      <td>...</td>\n",
       "      <td>...</td>\n",
       "      <td>...</td>\n",
       "      <td>...</td>\n",
       "      <td>...</td>\n",
       "      <td>...</td>\n",
       "      <td>...</td>\n",
       "      <td>...</td>\n",
       "      <td>...</td>\n",
       "      <td>...</td>\n",
       "      <td>...</td>\n",
       "      <td>...</td>\n",
       "      <td>...</td>\n",
       "      <td>...</td>\n",
       "      <td>...</td>\n",
       "      <td>...</td>\n",
       "      <td>...</td>\n",
       "      <td>...</td>\n",
       "      <td>...</td>\n",
       "      <td>...</td>\n",
       "    </tr>\n",
       "    <tr>\n",
       "      <th>1488</th>\n",
       "      <td>-0.000000</td>\n",
       "      <td>-0.0</td>\n",
       "      <td>-0.0</td>\n",
       "      <td>-0.000000</td>\n",
       "      <td>-0.0</td>\n",
       "      <td>-0.000000</td>\n",
       "      <td>-0.000000</td>\n",
       "      <td>-0.0</td>\n",
       "      <td>-0.0</td>\n",
       "      <td>-0.0</td>\n",
       "      <td>...</td>\n",
       "      <td>-0.0</td>\n",
       "      <td>-0.000000</td>\n",
       "      <td>-0.0</td>\n",
       "      <td>-0.000000</td>\n",
       "      <td>-0.000000</td>\n",
       "      <td>-0.0</td>\n",
       "      <td>-0.0</td>\n",
       "      <td>-0.000000</td>\n",
       "      <td>-0.000000</td>\n",
       "      <td>-0.000000</td>\n",
       "    </tr>\n",
       "    <tr>\n",
       "      <th>1489</th>\n",
       "      <td>-0.000000</td>\n",
       "      <td>-0.0</td>\n",
       "      <td>-0.0</td>\n",
       "      <td>-0.000000</td>\n",
       "      <td>-0.0</td>\n",
       "      <td>-0.000000</td>\n",
       "      <td>-0.000000</td>\n",
       "      <td>-0.0</td>\n",
       "      <td>-0.0</td>\n",
       "      <td>-0.0</td>\n",
       "      <td>...</td>\n",
       "      <td>-0.0</td>\n",
       "      <td>-0.000000</td>\n",
       "      <td>-0.0</td>\n",
       "      <td>-0.000000</td>\n",
       "      <td>44.585375</td>\n",
       "      <td>-0.0</td>\n",
       "      <td>-0.0</td>\n",
       "      <td>-0.000000</td>\n",
       "      <td>-0.000000</td>\n",
       "      <td>-0.000000</td>\n",
       "    </tr>\n",
       "    <tr>\n",
       "      <th>1490</th>\n",
       "      <td>64.578837</td>\n",
       "      <td>-0.0</td>\n",
       "      <td>-0.0</td>\n",
       "      <td>-0.000000</td>\n",
       "      <td>-0.0</td>\n",
       "      <td>-0.000000</td>\n",
       "      <td>153.002578</td>\n",
       "      <td>-0.0</td>\n",
       "      <td>-0.0</td>\n",
       "      <td>-0.0</td>\n",
       "      <td>...</td>\n",
       "      <td>-0.0</td>\n",
       "      <td>-0.000000</td>\n",
       "      <td>-0.0</td>\n",
       "      <td>-0.000000</td>\n",
       "      <td>-0.000000</td>\n",
       "      <td>-0.0</td>\n",
       "      <td>-0.0</td>\n",
       "      <td>-0.000000</td>\n",
       "      <td>-0.000000</td>\n",
       "      <td>-0.000000</td>\n",
       "    </tr>\n",
       "    <tr>\n",
       "      <th>1491</th>\n",
       "      <td>-0.000000</td>\n",
       "      <td>-0.0</td>\n",
       "      <td>-0.0</td>\n",
       "      <td>-0.000000</td>\n",
       "      <td>-0.0</td>\n",
       "      <td>-0.000000</td>\n",
       "      <td>-0.000000</td>\n",
       "      <td>-0.0</td>\n",
       "      <td>-0.0</td>\n",
       "      <td>-0.0</td>\n",
       "      <td>...</td>\n",
       "      <td>-0.0</td>\n",
       "      <td>-0.000000</td>\n",
       "      <td>-0.0</td>\n",
       "      <td>-0.000000</td>\n",
       "      <td>-0.000000</td>\n",
       "      <td>-0.0</td>\n",
       "      <td>-0.0</td>\n",
       "      <td>-0.000000</td>\n",
       "      <td>-0.000000</td>\n",
       "      <td>4.535206</td>\n",
       "    </tr>\n",
       "    <tr>\n",
       "      <th>1492</th>\n",
       "      <td>-0.000000</td>\n",
       "      <td>-0.0</td>\n",
       "      <td>-0.0</td>\n",
       "      <td>-0.000000</td>\n",
       "      <td>-0.0</td>\n",
       "      <td>-0.000000</td>\n",
       "      <td>-0.000000</td>\n",
       "      <td>-0.0</td>\n",
       "      <td>-0.0</td>\n",
       "      <td>-0.0</td>\n",
       "      <td>...</td>\n",
       "      <td>-0.0</td>\n",
       "      <td>259.828737</td>\n",
       "      <td>-0.0</td>\n",
       "      <td>-0.000000</td>\n",
       "      <td>-0.000000</td>\n",
       "      <td>-0.0</td>\n",
       "      <td>-0.0</td>\n",
       "      <td>-0.000000</td>\n",
       "      <td>-0.000000</td>\n",
       "      <td>-0.000000</td>\n",
       "    </tr>\n",
       "  </tbody>\n",
       "</table>\n",
       "<p>1493 rows × 100 columns</p>\n",
       "</div>"
      ],
      "text/plain": [
       "      replication_0  replication_1  replication_2  replication_3  \\\n",
       "0         -0.000000           -0.0           -0.0     712.005064   \n",
       "1         -0.000000           -0.0           -0.0      -0.000000   \n",
       "2        412.918895           -0.0           -0.0      -0.000000   \n",
       "3         -0.000000           -0.0           -0.0      -0.000000   \n",
       "4         -0.000000           -0.0           -0.0      -0.000000   \n",
       "...             ...            ...            ...            ...   \n",
       "1488      -0.000000           -0.0           -0.0      -0.000000   \n",
       "1489      -0.000000           -0.0           -0.0      -0.000000   \n",
       "1490      64.578837           -0.0           -0.0      -0.000000   \n",
       "1491      -0.000000           -0.0           -0.0      -0.000000   \n",
       "1492      -0.000000           -0.0           -0.0      -0.000000   \n",
       "\n",
       "      replication_4  replication_5  replication_6  replication_7  \\\n",
       "0              -0.0      -0.000000      -0.000000           -0.0   \n",
       "1              -0.0      -0.000000      -0.000000           -0.0   \n",
       "2              -0.0    1261.924791      -0.000000           -0.0   \n",
       "3              -0.0      -0.000000      -0.000000           -0.0   \n",
       "4              -0.0      -0.000000      -0.000000           -0.0   \n",
       "...             ...            ...            ...            ...   \n",
       "1488           -0.0      -0.000000      -0.000000           -0.0   \n",
       "1489           -0.0      -0.000000      -0.000000           -0.0   \n",
       "1490           -0.0      -0.000000     153.002578           -0.0   \n",
       "1491           -0.0      -0.000000      -0.000000           -0.0   \n",
       "1492           -0.0      -0.000000      -0.000000           -0.0   \n",
       "\n",
       "      replication_8  replication_9  ...  replication_90  replication_91  \\\n",
       "0              -0.0           -0.0  ...            -0.0       -0.000000   \n",
       "1               0.0           -0.0  ...            -0.0       -0.000000   \n",
       "2              -0.0           -0.0  ...            -0.0       -0.000000   \n",
       "3              -0.0           -0.0  ...            -0.0       -0.000000   \n",
       "4              -0.0           -0.0  ...            -0.0       -0.000000   \n",
       "...             ...            ...  ...             ...             ...   \n",
       "1488           -0.0           -0.0  ...            -0.0       -0.000000   \n",
       "1489           -0.0           -0.0  ...            -0.0       -0.000000   \n",
       "1490           -0.0           -0.0  ...            -0.0       -0.000000   \n",
       "1491           -0.0           -0.0  ...            -0.0       -0.000000   \n",
       "1492           -0.0           -0.0  ...            -0.0      259.828737   \n",
       "\n",
       "      replication_92  replication_93  replication_94  replication_95  \\\n",
       "0               -0.0       -0.000000       -0.000000            -0.0   \n",
       "1               -0.0       -0.000000       -0.000000            -0.0   \n",
       "2               -0.0       -0.000000       -0.000000            -0.0   \n",
       "3               -0.0       -0.000000       -0.000000            -0.0   \n",
       "4               -0.0      959.448163       -0.000000            -0.0   \n",
       "...              ...             ...             ...             ...   \n",
       "1488            -0.0       -0.000000       -0.000000            -0.0   \n",
       "1489            -0.0       -0.000000       44.585375            -0.0   \n",
       "1490            -0.0       -0.000000       -0.000000            -0.0   \n",
       "1491            -0.0       -0.000000       -0.000000            -0.0   \n",
       "1492            -0.0       -0.000000       -0.000000            -0.0   \n",
       "\n",
       "      replication_96  replication_97  replication_98  replication_99  \n",
       "0               -0.0       -0.000000      480.206032       -0.000000  \n",
       "1               -0.0       -0.000000       -0.000000       -0.000000  \n",
       "2               -0.0      936.124449       -0.000000       -0.000000  \n",
       "3               -0.0       -0.000000       -0.000000       -0.000000  \n",
       "4               -0.0       -0.000000       -0.000000       -0.000000  \n",
       "...              ...             ...             ...             ...  \n",
       "1488            -0.0       -0.000000       -0.000000       -0.000000  \n",
       "1489            -0.0       -0.000000       -0.000000       -0.000000  \n",
       "1490            -0.0       -0.000000       -0.000000       -0.000000  \n",
       "1491            -0.0       -0.000000       -0.000000        4.535206  \n",
       "1492            -0.0       -0.000000       -0.000000       -0.000000  \n",
       "\n",
       "[1493 rows x 100 columns]"
      ]
     },
     "execution_count": 31,
     "metadata": {},
     "output_type": "execute_result"
    }
   ],
   "source": [
    "household_consumption_loss"
   ]
  },
  {
   "cell_type": "code",
   "execution_count": 10,
   "metadata": {},
   "outputs": [
    {
     "data": {
      "text/plain": [
       "30.414754813556428"
      ]
     },
     "execution_count": 10,
     "metadata": {},
     "output_type": "execute_result"
    }
   ],
   "source": [
    "df['mean_household_consumption_loss'].mean()"
   ]
  },
  {
   "cell_type": "code",
   "execution_count": null,
   "metadata": {},
   "outputs": [],
   "source": [
    "# Mean across all or mean across affected\n",
    "# Mean across affected will give us an average consumption loss per affected household\n",
    "# Mean across all will give us an average consumption loss per household"
   ]
  },
  {
   "cell_type": "code",
   "execution_count": null,
   "metadata": {},
   "outputs": [],
   "source": []
  },
  {
   "cell_type": "code",
   "execution_count": 96,
   "metadata": {},
   "outputs": [
    {
     "data": {
      "text/plain": [
       "2832.053970039066"
      ]
     },
     "execution_count": 96,
     "metadata": {},
     "output_type": "execute_result"
    }
   ],
   "source": [
    "(df['mean_household_consumption_loss'] * df['popwgt']).mean()"
   ]
  },
  {
   "cell_type": "code",
   "execution_count": 147,
   "metadata": {},
   "outputs": [],
   "source": [
    "# ?: Should I do rescaling here? I think we already did that in `_adjust_asset_and_expenditure()`"
   ]
  },
  {
   "cell_type": "code",
   "execution_count": 13,
   "metadata": {},
   "outputs": [
    {
     "name": "stdout",
     "output_type": "stream",
     "text": [
      "Policy: None\n",
      " : 0.19913\n",
      " : 0.57482\n",
      "Policy: PDS\n",
      " : 0.12832\n",
      " : 0.67303\n"
     ]
    },
    {
     "data": {
      "image/png": "[encoded data removed]",
      "text/plain": [
       "<Figure size 1200x400 with 2 Axes>"
      ]
     },
     "metadata": {},
     "output_type": "display_data"
    }
   ],
   "source": [
    "ncols = 2\n",
    "fig, ax = plt.subplots(ncols=ncols, figsize=(12, 4))\n",
    "for i, policy in enumerate(policies):\n",
    "    print(f'Policy: {policy}')\n",
    "    df = d[policy]\n",
    "    # ?: What's that?\n",
    "    print(' :', round(df.loc[df['mean_household_consumption_loss'] > 50, 'popwgt'].sum() / df['popwgt'].sum(), 5))\n",
    "    print(' :', round(df.loc[df['mean_household_consumption_loss'] < 20, 'popwgt'].sum() / df['popwgt'].sum(), 5))    \n",
    "    column = 'mean_household_consumption_loss'\n",
    "    sns.histplot(data=df, x=column, weights='popwgt', bins=10, label=policy, ax=ax[i]);\n",
    "    ax[i].set_xlabel('Average consumption loss (USD)')\n",
    "    ax[i].legend(title='Policy');\n",
    "fig.tight_layout()"
   ]
  },
  {
   "attachments": {},
   "cell_type": "markdown",
   "metadata": {},
   "source": [
    "Let's quantify socio-economics resilience."
   ]
  },
  {
   "cell_type": "code",
   "execution_count": 31,
   "metadata": {},
   "outputs": [
    {
     "name": "stdout",
     "output_type": "stream",
     "text": [
      "Total consumption loss: 4,540,923\n",
      "Total population: 172,638\n",
      "Average consumption loss per capita: 26\n"
     ]
    }
   ],
   "source": [
    "# Total consumption loss = (Mean consumption loss across replications X population weight).sum()\n",
    "# Total consumption loss of households that lost something at a given replication\n",
    "total_consumption_loss = (df['mean_consumption_loss'] * df['popwgt']).sum()\n",
    "total_population = round(df['popwgt'].sum())\n",
    "# Print total consumption loss with , separator and 2 decimal places\n",
    "print(f'Total consumption loss: {round(total_consumption_loss):,}')\n",
    "print(f'Total population: {total_population:,}')\n",
    "\n",
    "# Average consumption loss per capita\n",
    "average_consumption_loss = round(total_consumption_loss.sum() / total_population)\n",
    "print(f'Average consumption loss per capita: {average_consumption_loss}')"
   ]
  },
  {
   "cell_type": "code",
   "execution_count": 32,
   "metadata": {},
   "outputs": [
    {
     "data": {
      "text/plain": [
       "['AnseLaRayeCanaries',\n",
       " 'Castries',\n",
       " 'Choiseul',\n",
       " 'Dennery',\n",
       " 'Gros Islet',\n",
       " 'Laborie',\n",
       " 'Micoud',\n",
       " 'Soufriere',\n",
       " 'Vieuxfort']"
      ]
     },
     "execution_count": 32,
     "metadata": {},
     "output_type": "execute_result"
    }
   ],
   "source": [
    "districts"
   ]
  },
  {
   "cell_type": "code",
   "execution_count": 44,
   "metadata": {},
   "outputs": [
    {
     "data": {
      "text/plain": [
       "array(['Vieuxfort'], dtype=object)"
      ]
     },
     "execution_count": 44,
     "metadata": {},
     "output_type": "execute_result"
    }
   ],
   "source": [
    "d['None']['district'].unique()"
   ]
  },
  {
   "cell_type": "code",
   "execution_count": 37,
   "metadata": {},
   "outputs": [
    {
     "data": {
      "text/plain": [
       "dict_keys(['households', 'affected_households', 'impoverished_households', 'households_weeks_in_poverty', 'household_consumption_loss'])"
      ]
     },
     "execution_count": 37,
     "metadata": {},
     "output_type": "execute_result"
    }
   ],
   "source": [
    "outcomes['AnseLaRayeCanaries']['None']['100'].keys()"
   ]
  },
  {
   "cell_type": "code",
   "execution_count": 42,
   "metadata": {},
   "outputs": [
    {
     "data": {
      "text/html": [
       "<div>\n",
       "<style scoped>\n",
       "    .dataframe tbody tr th:only-of-type {\n",
       "        vertical-align: middle;\n",
       "    }\n",
       "\n",
       "    .dataframe tbody tr th {\n",
       "        vertical-align: top;\n",
       "    }\n",
       "\n",
       "    .dataframe thead th {\n",
       "        text-align: right;\n",
       "    }\n",
       "</style>\n",
       "<table border=\"1\" class=\"dataframe\">\n",
       "  <thead>\n",
       "    <tr style=\"text-align: right;\">\n",
       "      <th></th>\n",
       "      <th>mean_household_consumption_loss</th>\n",
       "      <th>popwgt</th>\n",
       "      <th>aeexp</th>\n",
       "      <th>mean_consumption_loss</th>\n",
       "      <th>is_poor</th>\n",
       "      <th>district</th>\n",
       "    </tr>\n",
       "  </thead>\n",
       "  <tbody>\n",
       "    <tr>\n",
       "      <th>0</th>\n",
       "      <td>25.177194</td>\n",
       "      <td>142.842379</td>\n",
       "      <td>415.866756</td>\n",
       "      <td>17.625858</td>\n",
       "      <td>False</td>\n",
       "      <td>Vieuxfort</td>\n",
       "    </tr>\n",
       "    <tr>\n",
       "      <th>1</th>\n",
       "      <td>24.746404</td>\n",
       "      <td>28.568476</td>\n",
       "      <td>198.621476</td>\n",
       "      <td>86.621365</td>\n",
       "      <td>False</td>\n",
       "      <td>Vieuxfort</td>\n",
       "    </tr>\n",
       "    <tr>\n",
       "      <th>2</th>\n",
       "      <td>122.602541</td>\n",
       "      <td>99.173424</td>\n",
       "      <td>244.517986</td>\n",
       "      <td>123.624391</td>\n",
       "      <td>False</td>\n",
       "      <td>Vieuxfort</td>\n",
       "    </tr>\n",
       "    <tr>\n",
       "      <th>3</th>\n",
       "      <td>15.450896</td>\n",
       "      <td>50.108673</td>\n",
       "      <td>886.502748</td>\n",
       "      <td>30.834774</td>\n",
       "      <td>False</td>\n",
       "      <td>Vieuxfort</td>\n",
       "    </tr>\n",
       "    <tr>\n",
       "      <th>4</th>\n",
       "      <td>55.413588</td>\n",
       "      <td>20.201992</td>\n",
       "      <td>515.871994</td>\n",
       "      <td>274.297641</td>\n",
       "      <td>False</td>\n",
       "      <td>Vieuxfort</td>\n",
       "    </tr>\n",
       "    <tr>\n",
       "      <th>...</th>\n",
       "      <td>...</td>\n",
       "      <td>...</td>\n",
       "      <td>...</td>\n",
       "      <td>...</td>\n",
       "      <td>...</td>\n",
       "      <td>...</td>\n",
       "    </tr>\n",
       "    <tr>\n",
       "      <th>1488</th>\n",
       "      <td>64.164016</td>\n",
       "      <td>63.754343</td>\n",
       "      <td>207.694959</td>\n",
       "      <td>100.642581</td>\n",
       "      <td>False</td>\n",
       "      <td>Vieuxfort</td>\n",
       "    </tr>\n",
       "    <tr>\n",
       "      <th>1489</th>\n",
       "      <td>3.380171</td>\n",
       "      <td>38.973412</td>\n",
       "      <td>32.463579</td>\n",
       "      <td>8.673018</td>\n",
       "      <td>True</td>\n",
       "      <td>Vieuxfort</td>\n",
       "    </tr>\n",
       "    <tr>\n",
       "      <th>1490</th>\n",
       "      <td>30.916323</td>\n",
       "      <td>99.173416</td>\n",
       "      <td>280.265714</td>\n",
       "      <td>31.174002</td>\n",
       "      <td>False</td>\n",
       "      <td>Vieuxfort</td>\n",
       "    </tr>\n",
       "    <tr>\n",
       "      <th>1491</th>\n",
       "      <td>0.377466</td>\n",
       "      <td>239.975185</td>\n",
       "      <td>106.316967</td>\n",
       "      <td>0.157294</td>\n",
       "      <td>True</td>\n",
       "      <td>Vieuxfort</td>\n",
       "    </tr>\n",
       "    <tr>\n",
       "      <th>1492</th>\n",
       "      <td>15.470328</td>\n",
       "      <td>62.635841</td>\n",
       "      <td>205.408938</td>\n",
       "      <td>24.698843</td>\n",
       "      <td>False</td>\n",
       "      <td>Vieuxfort</td>\n",
       "    </tr>\n",
       "  </tbody>\n",
       "</table>\n",
       "<p>1493 rows × 6 columns</p>\n",
       "</div>"
      ],
      "text/plain": [
       "      mean_household_consumption_loss      popwgt       aeexp  \\\n",
       "0                           25.177194  142.842379  415.866756   \n",
       "1                           24.746404   28.568476  198.621476   \n",
       "2                          122.602541   99.173424  244.517986   \n",
       "3                           15.450896   50.108673  886.502748   \n",
       "4                           55.413588   20.201992  515.871994   \n",
       "...                               ...         ...         ...   \n",
       "1488                        64.164016   63.754343  207.694959   \n",
       "1489                         3.380171   38.973412   32.463579   \n",
       "1490                        30.916323   99.173416  280.265714   \n",
       "1491                         0.377466  239.975185  106.316967   \n",
       "1492                        15.470328   62.635841  205.408938   \n",
       "\n",
       "      mean_consumption_loss  is_poor   district  \n",
       "0                 17.625858    False  Vieuxfort  \n",
       "1                 86.621365    False  Vieuxfort  \n",
       "2                123.624391    False  Vieuxfort  \n",
       "3                 30.834774    False  Vieuxfort  \n",
       "4                274.297641    False  Vieuxfort  \n",
       "...                     ...      ...        ...  \n",
       "1488             100.642581    False  Vieuxfort  \n",
       "1489               8.673018     True  Vieuxfort  \n",
       "1490              31.174002    False  Vieuxfort  \n",
       "1491               0.157294     True  Vieuxfort  \n",
       "1492              24.698843    False  Vieuxfort  \n",
       "\n",
       "[1493 rows x 6 columns]"
      ]
     },
     "execution_count": 42,
     "metadata": {},
     "output_type": "execute_result"
    }
   ],
   "source": [
    "d['None']"
   ]
  },
  {
   "cell_type": "code",
   "execution_count": 40,
   "metadata": {},
   "outputs": [
    {
     "ename": "KeyError",
     "evalue": "'Castries'",
     "output_type": "error",
     "traceback": [
      "\u001b[1;31m---------------------------------------------------------------------------\u001b[0m",
      "\u001b[1;31mKeyError\u001b[0m                                  Traceback (most recent call last)",
      "Cell \u001b[1;32mIn[40], line 1\u001b[0m\n\u001b[1;32m----> 1\u001b[0m x \u001b[39m=\u001b[39m d[\u001b[39m'\u001b[39;49m\u001b[39mCastries\u001b[39;49m\u001b[39m'\u001b[39;49m][\u001b[39m'\u001b[39m\u001b[39mNone\u001b[39m\u001b[39m'\u001b[39m]\n\u001b[0;32m      2\u001b[0m y \u001b[39m=\u001b[39m d[\u001b[39m'\u001b[39m\u001b[39mCastries\u001b[39m\u001b[39m'\u001b[39m][\u001b[39m'\u001b[39m\u001b[39m100\u001b[39m\u001b[39m'\u001b[39m]\n",
      "\u001b[1;31mKeyError\u001b[0m: 'Castries'"
     ]
    }
   ],
   "source": [
    "x = d['None']\n",
    "y = d['Castries']['100']"
   ]
  },
  {
   "cell_type": "code",
   "execution_count": null,
   "metadata": {},
   "outputs": [],
   "source": [
    "x"
   ]
  },
  {
   "cell_type": "code",
   "execution_count": null,
   "metadata": {},
   "outputs": [],
   "source": [
    "gdf = gpd.read_file('datasets/admin_boundaries/tls_admbnda_adm1_who_ocha_20200911.shp')\n",
    "\n",
    "gdf.loc[gdf['ADM1_EN']=='Lautém', 'ADM1_EN'] = \"Lautem\"\n",
    "gdf.loc[gdf['ADM1_EN']=='Liquiçá', 'ADM1_EN'] = \"Liquia\"\n",
    "\n",
    "gdf['PML'] = gdf['ADM1_EN'].map(dict(zip(asset_damage_df['Region'],asset_damage_df['PML'])))\n",
    "\n",
    "cons_loss_per_district = {}\n",
    "for d in gdf['ADM1_EN']:\n",
    "    _slc = hh_districts_df['district']==d\n",
    "    df_cons_wgt_ = df_cons_wgt[_slc]\n",
    "    cons_loss_per_district[d] = df_cons_wgt_['conswgt'].sum()\n",
    "    \n",
    "gdf['ConsLoss'] = gdf['ADM1_EN'].map(cons_loss_per_district)\n",
    "gdf['SocResil'] = gdf['PML'] / gdf['ConsLoss']"
   ]
  }
 ],
 "metadata": {
  "kernelspec": {
   "display_name": "unbk",
   "language": "python",
   "name": "python3"
  },
  "language_info": {
   "codemirror_mode": {
    "name": "ipython",
    "version": 3
   },
   "file_extension": ".py",
   "mimetype": "text/x-python",
   "name": "python",
   "nbconvert_exporter": "python",
   "pygments_lexer": "ipython3",
   "version": "3.9.16"
  },
  "orig_nbformat": 4
 },
 "nbformat": 4,
 "nbformat_minor": 2
}

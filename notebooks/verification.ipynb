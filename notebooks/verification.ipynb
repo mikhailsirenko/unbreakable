{
 "cells": [
  {
   "cell_type": "code",
   "execution_count": null,
   "metadata": {},
   "outputs": [],
   "source": [
    "# TODO: Address outliers in the household survey data"
   ]
  },
  {
   "cell_type": "code",
   "execution_count": 1,
   "metadata": {},
   "outputs": [],
   "source": [
    "%load_ext autoreload\n",
    "%autoreload 2"
   ]
  },
  {
   "cell_type": "code",
   "execution_count": 2,
   "metadata": {},
   "outputs": [],
   "source": [
    "import pandas as pd\n",
    "import os\n",
    "import seaborn as sns\n",
    "import matplotlib.pyplot as plt\n",
    "import numpy as np\n",
    "from tqdm import tqdm\n",
    "from matplotlib.ticker import MaxNLocator\n",
    "import json\n",
    "import ptitprince as pt\n",
    "import pickle as pkl\n",
    "# import contextily as ctx\n",
    "from analysis import *\n",
    "from ema_workbench import load_results"
   ]
  },
  {
   "cell_type": "markdown",
   "metadata": {},
   "source": [
    "## Input"
   ]
  },
  {
   "cell_type": "markdown",
   "metadata": {},
   "source": [
    "What kind of verification checks are we going to do?"
   ]
  },
  {
   "cell_type": "code",
   "execution_count": 3,
   "metadata": {},
   "outputs": [],
   "source": [
    "household_survey = pd.read_csv('../data/processed/household_survey/Saint Lucia/Saint Lucia.csv')"
   ]
  },
  {
   "cell_type": "markdown",
   "metadata": {},
   "source": [
    "The most populated district is Castries. The second place is hold by Gros Islet. The third place is hold by Vieux Fort. The least populated district is Laborie."
   ]
  },
  {
   "cell_type": "code",
   "execution_count": 10,
   "metadata": {},
   "outputs": [
    {
     "name": "stdout",
     "output_type": "stream",
     "text": [
      "Total population = 172,638\n",
      "Micoud population = 17,436\n",
      "Vieuxfort population = 15,229\n",
      "Castries population = 70,959\n",
      "Gros Islet population = 27,467\n",
      "Laborie population = 6,828\n",
      "Dennery population = 11,591\n",
      "Choiseul population = 5,476\n",
      "Soufriere population = 8,985\n",
      "AnseLaRayeCanaries population = 8,667\n"
     ]
    }
   ],
   "source": [
    "total_population = round(household_survey['popwgt'].sum())\n",
    "district_population = household_survey.groupby('district')['popwgt'].sum()\n",
    "print('Total population = ' + str('{:,}'.format(total_population)))\n",
    "for district in household_survey['district'].unique():\n",
    "    print(district + ' population = ' + str('{:,}'.format(round(district_population[district]))))\n",
    "\n",
    "# Check whether district population is equal to the total population\n",
    "assert total_population == round(district_population.sum())"
   ]
  },
  {
   "cell_type": "markdown",
   "metadata": {},
   "source": [
    "It seems that the predominant household size is 4 people with 23%, followed by 2 people household size with around 19%."
   ]
  },
  {
   "cell_type": "code",
   "execution_count": 58,
   "metadata": {},
   "outputs": [
    {
     "data": {
      "image/png": "[encoded data removed]",
      "text/plain": [
       "<Figure size 420x280 with 1 Axes>"
      ]
     },
     "metadata": {},
     "output_type": "display_data"
    }
   ],
   "source": [
    "household_survey['hhsize_ae'] = household_survey['hhsize_ae'].astype(int)\n",
    "(household_survey.groupby('hhsize_ae')['popwgt'].sum() / total_population).plot.bar(rot=0)\n",
    "plt.xlabel('Household size')\n",
    "plt.ylabel('Fraction of population');"
   ]
  },
  {
   "cell_type": "code",
   "execution_count": 74,
   "metadata": {},
   "outputs": [
    {
     "name": "stdout",
     "output_type": "stream",
     "text": [
      "Micoud average income = 11347\n",
      "Vieuxfort average income = 10954\n",
      "Castries average income = 13573\n",
      "Gros Islet average income = 16351\n",
      "Laborie average income = 9072\n",
      "Dennery average income = 15270\n",
      "Choiseul average income = 13213\n",
      "Soufriere average income = 11717\n",
      "AnseLaRayeCanaries average income = 11708\n"
     ]
    }
   ],
   "source": [
    "household_survey['aeinc'] = household_survey['aeinc'].astype(float)\n",
    "for district in household_survey['district'].unique():\n",
    "    print(district + ' average income = ' + str(round((household_survey.loc[household_survey['district'] == district, 'aeinc'] * household_survey.loc[household_survey['district'] == district, 'popwgt']).sum() / district_population[district])))"
   ]
  },
  {
   "cell_type": "code",
   "execution_count": 75,
   "metadata": {},
   "outputs": [
    {
     "name": "stdout",
     "output_type": "stream",
     "text": [
      "Micoud average expenditure per capita = 14463\n",
      "Vieuxfort average expenditure per capita = 12406\n",
      "Castries average expenditure per capita = 13448\n",
      "Gros Islet average expenditure per capita = 17596\n",
      "Laborie average expenditure per capita = 11136\n",
      "Dennery average expenditure per capita = 11268\n",
      "Choiseul average expenditure per capita = 13438\n",
      "Soufriere average expenditure per capita = 19126\n",
      "AnseLaRayeCanaries average expenditure per capita = 11214\n"
     ]
    }
   ],
   "source": [
    "for district in household_survey['district'].unique():\n",
    "    print(district + ' average expenditure per capita = ' + str(round((household_survey.loc[household_survey['district'] == district, 'aeexp'] * household_survey.loc[household_survey['district'] == district, 'popwgt']).sum() / district_population[district])))"
   ]
  },
  {
   "cell_type": "code",
   "execution_count": 34,
   "metadata": {},
   "outputs": [
    {
     "name": "stdout",
     "output_type": "stream",
     "text": [
      "                      aeexp                                                     \n",
      "                       mean      std     min     25%      50%      75%       max\n",
      "district                                                                        \n",
      "AnseLaRayeCanaries  14057.0  16680.0  1290.0  5466.0   8805.0  17651.0  149411.0\n",
      "Castries            16205.0  15904.0     0.0  7805.0  12315.0  18787.0  240996.0\n",
      "Choiseul            16339.0  13626.0  1564.0  7535.0  11880.0  19625.0   80225.0\n",
      "Dennery             13644.0  17063.0  1935.0  5765.0   9493.0  15705.0  159626.0\n",
      "Gros Islet          20781.0  20057.0  3832.0  8891.0  15114.0  24977.0  191948.0\n",
      "Laborie             14296.0  10787.0  1632.0  7470.0  10775.0  18568.0   63126.0\n",
      "Micoud              19215.0  25879.0  1063.0  7182.0  10873.0  20101.0  199949.0\n",
      "Soufriere           22211.0  58157.0  2256.0  7419.0  11891.0  18680.0  598187.0\n",
      "Vieuxfort           14752.0  15029.0  1672.0  6175.0   9678.0  16642.0   99556.0\n"
     ]
    }
   ],
   "source": [
    "print(household_survey[['aeexp', 'district']].groupby('district').describe().round().iloc[:,1:].to_string(formatters={'aeexp': '{:,.0f}'.format}))"
   ]
  },
  {
   "cell_type": "code",
   "execution_count": null,
   "metadata": {},
   "outputs": [],
   "source": []
  },
  {
   "cell_type": "markdown",
   "metadata": {},
   "source": [
    "## Output"
   ]
  },
  {
   "cell_type": "code",
   "execution_count": 76,
   "metadata": {},
   "outputs": [],
   "source": [
    "# Load results\n",
    "results = load_results('../results/results_1.tar.gz')\n",
    "outcomes = prepare_outcomes_dataframe(results)\n",
    "outcomes.set_index('district', inplace=True)\n",
    "experiments = results[0]"
   ]
  },
  {
   "cell_type": "code",
   "execution_count": 77,
   "metadata": {},
   "outputs": [],
   "source": [
    "d = {'event_damage': 'Asset damage (physical)',\n",
    "     'total_asset_stock': 'Total asset stock (physical)',\n",
    "     'total_asset_in_survey': 'Total asset stock (survey)',\n",
    "     'total_asset_loss': 'Total asset loss (model)',\n",
    "     'total_consumption_loss': 'Total consumption loss (model)',\n",
    "     'r' : 'Socio-economic resilience (model)'}"
   ]
  },
  {
   "cell_type": "code",
   "execution_count": 78,
   "metadata": {},
   "outputs": [
    {
     "data": {
      "text/html": [
       "<style type=\"text/css\">\n",
       "</style>\n",
       "<table id=\"T_292e1\">\n",
       "  <thead>\n",
       "    <tr>\n",
       "      <th class=\"blank level0\" >&nbsp;</th>\n",
       "      <th id=\"T_292e1_level0_col0\" class=\"col_heading level0 col0\" >Asset damage (physical)</th>\n",
       "      <th id=\"T_292e1_level0_col1\" class=\"col_heading level0 col1\" >Total asset stock (physical)</th>\n",
       "      <th id=\"T_292e1_level0_col2\" class=\"col_heading level0 col2\" >Total asset stock (survey)</th>\n",
       "      <th id=\"T_292e1_level0_col3\" class=\"col_heading level0 col3\" >Total asset loss (model)</th>\n",
       "      <th id=\"T_292e1_level0_col4\" class=\"col_heading level0 col4\" >Total consumption loss (model)</th>\n",
       "      <th id=\"T_292e1_level0_col5\" class=\"col_heading level0 col5\" >Socio-economic resilience (model)</th>\n",
       "    </tr>\n",
       "    <tr>\n",
       "      <th class=\"index_name level0\" >District</th>\n",
       "      <th class=\"blank col0\" >&nbsp;</th>\n",
       "      <th class=\"blank col1\" >&nbsp;</th>\n",
       "      <th class=\"blank col2\" >&nbsp;</th>\n",
       "      <th class=\"blank col3\" >&nbsp;</th>\n",
       "      <th class=\"blank col4\" >&nbsp;</th>\n",
       "      <th class=\"blank col5\" >&nbsp;</th>\n",
       "    </tr>\n",
       "  </thead>\n",
       "  <tbody>\n",
       "    <tr>\n",
       "      <th id=\"T_292e1_level0_row0\" class=\"row_heading level0 row0\" >AnseLaRayeCanaries</th>\n",
       "      <td id=\"T_292e1_row0_col0\" class=\"data row0 col0\" >1,282,936.18</td>\n",
       "      <td id=\"T_292e1_row0_col1\" class=\"data row0 col1\" >47,442,177.05</td>\n",
       "      <td id=\"T_292e1_row0_col2\" class=\"data row0 col2\" >334,331,195.84</td>\n",
       "      <td id=\"T_292e1_row0_col3\" class=\"data row0 col3\" >1,343,831.53</td>\n",
       "      <td id=\"T_292e1_row0_col4\" class=\"data row0 col4\" >2,377,455.88</td>\n",
       "      <td id=\"T_292e1_row0_col5\" class=\"data row0 col5\" >0.54</td>\n",
       "    </tr>\n",
       "    <tr>\n",
       "      <th id=\"T_292e1_level0_row1\" class=\"row_heading level0 row1\" >Castries</th>\n",
       "      <td id=\"T_292e1_row1_col0\" class=\"data row1 col0\" >31,062,668.40</td>\n",
       "      <td id=\"T_292e1_row1_col1\" class=\"data row1 col1\" >1,587,405,663.34</td>\n",
       "      <td id=\"T_292e1_row1_col2\" class=\"data row1 col2\" >3,435,721,049.12</td>\n",
       "      <td id=\"T_292e1_row1_col3\" class=\"data row1 col3\" >58,642,048.53</td>\n",
       "      <td id=\"T_292e1_row1_col4\" class=\"data row1 col4\" >86,109,421.81</td>\n",
       "      <td id=\"T_292e1_row1_col5\" class=\"data row1 col5\" >0.36</td>\n",
       "    </tr>\n",
       "    <tr>\n",
       "      <th id=\"T_292e1_level0_row2\" class=\"row_heading level0 row2\" >Choiseul</th>\n",
       "      <td id=\"T_292e1_row2_col0\" class=\"data row2 col0\" >1,111,847.84</td>\n",
       "      <td id=\"T_292e1_row2_col1\" class=\"data row2 col1\" >54,354,802.37</td>\n",
       "      <td id=\"T_292e1_row2_col2\" class=\"data row2 col2\" >377,890,219.98</td>\n",
       "      <td id=\"T_292e1_row2_col3\" class=\"data row2 col3\" >1,618,150.81</td>\n",
       "      <td id=\"T_292e1_row2_col4\" class=\"data row2 col4\" >2,362,625.39</td>\n",
       "      <td id=\"T_292e1_row2_col5\" class=\"data row2 col5\" >0.47</td>\n",
       "    </tr>\n",
       "    <tr>\n",
       "      <th id=\"T_292e1_level0_row3\" class=\"row_heading level0 row3\" >Dennery</th>\n",
       "      <td id=\"T_292e1_row3_col0\" class=\"data row3 col0\" >2,667,414.34</td>\n",
       "      <td id=\"T_292e1_row3_col1\" class=\"data row3 col1\" >125,372,604.01</td>\n",
       "      <td id=\"T_292e1_row3_col2\" class=\"data row3 col2\" >417,528,403.13</td>\n",
       "      <td id=\"T_292e1_row3_col3\" class=\"data row3 col3\" >5,684,835.79</td>\n",
       "      <td id=\"T_292e1_row3_col4\" class=\"data row3 col4\" >9,711,382.60</td>\n",
       "      <td id=\"T_292e1_row3_col5\" class=\"data row3 col5\" >0.27</td>\n",
       "    </tr>\n",
       "    <tr>\n",
       "      <th id=\"T_292e1_level0_row4\" class=\"row_heading level0 row4\" >Gros Islet</th>\n",
       "      <td id=\"T_292e1_row4_col0\" class=\"data row4 col0\" >10,932,607.53</td>\n",
       "      <td id=\"T_292e1_row4_col1\" class=\"data row4 col1\" >532,061,766.39</td>\n",
       "      <td id=\"T_292e1_row4_col2\" class=\"data row4 col2\" >3,294,339,146.51</td>\n",
       "      <td id=\"T_292e1_row4_col3\" class=\"data row4 col3\" >7,453,180.52</td>\n",
       "      <td id=\"T_292e1_row4_col4\" class=\"data row4 col4\" >5,722,247.71</td>\n",
       "      <td id=\"T_292e1_row4_col5\" class=\"data row4 col5\" >1.91</td>\n",
       "    </tr>\n",
       "    <tr>\n",
       "      <th id=\"T_292e1_level0_row5\" class=\"row_heading level0 row5\" >Laborie</th>\n",
       "      <td id=\"T_292e1_row5_col0\" class=\"data row5 col0\" >2,035,118.22</td>\n",
       "      <td id=\"T_292e1_row5_col1\" class=\"data row5 col1\" >99,235,698.32</td>\n",
       "      <td id=\"T_292e1_row5_col2\" class=\"data row5 col2\" >215,695,044.06</td>\n",
       "      <td id=\"T_292e1_row5_col3\" class=\"data row5 col3\" >4,125,350.63</td>\n",
       "      <td id=\"T_292e1_row5_col4\" class=\"data row5 col4\" >8,058,795.04</td>\n",
       "      <td id=\"T_292e1_row5_col5\" class=\"data row5 col5\" >0.25</td>\n",
       "    </tr>\n",
       "    <tr>\n",
       "      <th id=\"T_292e1_level0_row6\" class=\"row_heading level0 row6\" >Micoud</th>\n",
       "      <td id=\"T_292e1_row6_col0\" class=\"data row6 col0\" >4,766,541.74</td>\n",
       "      <td id=\"T_292e1_row6_col1\" class=\"data row6 col1\" >231,995,156.10</td>\n",
       "      <td id=\"T_292e1_row6_col2\" class=\"data row6 col2\" >554,020,360.02</td>\n",
       "      <td id=\"T_292e1_row6_col3\" class=\"data row6 col3\" >4,901,977.19</td>\n",
       "      <td id=\"T_292e1_row6_col4\" class=\"data row6 col4\" >7,654,894.10</td>\n",
       "      <td id=\"T_292e1_row6_col5\" class=\"data row6 col5\" >0.62</td>\n",
       "    </tr>\n",
       "    <tr>\n",
       "      <th id=\"T_292e1_level0_row7\" class=\"row_heading level0 row7\" >Soufriere</th>\n",
       "      <td id=\"T_292e1_row7_col0\" class=\"data row7 col0\" >1,679,254.31</td>\n",
       "      <td id=\"T_292e1_row7_col1\" class=\"data row7 col1\" >82,756,712.06</td>\n",
       "      <td id=\"T_292e1_row7_col2\" class=\"data row7 col2\" >535,928,432.44</td>\n",
       "      <td id=\"T_292e1_row7_col3\" class=\"data row7 col3\" >8,368,873.98</td>\n",
       "      <td id=\"T_292e1_row7_col4\" class=\"data row7 col4\" >7,764,331.59</td>\n",
       "      <td id=\"T_292e1_row7_col5\" class=\"data row7 col5\" >0.22</td>\n",
       "    </tr>\n",
       "    <tr>\n",
       "      <th id=\"T_292e1_level0_row8\" class=\"row_heading level0 row8\" >Vieuxfort</th>\n",
       "      <td id=\"T_292e1_row8_col0\" class=\"data row8 col0\" >4,264,030.49</td>\n",
       "      <td id=\"T_292e1_row8_col1\" class=\"data row8 col1\" >216,534,648.76</td>\n",
       "      <td id=\"T_292e1_row8_col2\" class=\"data row8 col2\" >1,266,550,258.12</td>\n",
       "      <td id=\"T_292e1_row8_col3\" class=\"data row8 col3\" >7,704,685.37</td>\n",
       "      <td id=\"T_292e1_row8_col4\" class=\"data row8 col4\" >11,683,853.81</td>\n",
       "      <td id=\"T_292e1_row8_col5\" class=\"data row8 col5\" >0.36</td>\n",
       "    </tr>\n",
       "  </tbody>\n",
       "</table>\n"
      ],
      "text/plain": [
       "<pandas.io.formats.style.Styler at 0x13e85481be0>"
      ]
     },
     "execution_count": 78,
     "metadata": {},
     "output_type": "execute_result"
    }
   ],
   "source": [
    "df = outcomes.copy()\n",
    "df = df[list(d.keys())].round()\n",
    "df.columns = list(d.values())\n",
    "df.index.name = 'District'\n",
    "# Print df with comma separator for thousands with 2 decimals\n",
    "df.style.format(\"{:,.2f}\")"
   ]
  },
  {
   "cell_type": "code",
   "execution_count": null,
   "metadata": {},
   "outputs": [],
   "source": []
  }
 ],
 "metadata": {
  "kernelspec": {
   "display_name": "ubk",
   "language": "python",
   "name": "python3"
  },
  "language_info": {
   "codemirror_mode": {
    "name": "ipython",
    "version": 3
   },
   "file_extension": ".py",
   "mimetype": "text/x-python",
   "name": "python",
   "nbconvert_exporter": "python",
   "pygments_lexer": "ipython3",
   "version": "3.9.16"
  },
  "orig_nbformat": 4
 },
 "nbformat": 4,
 "nbformat_minor": 2
}

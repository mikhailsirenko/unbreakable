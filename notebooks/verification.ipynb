{
 "cells": [
  {
   "cell_type": "code",
   "execution_count": 1,
   "metadata": {},
   "outputs": [],
   "source": [
    "%load_ext autoreload\n",
    "%autoreload 2"
   ]
  },
  {
   "cell_type": "code",
   "execution_count": 2,
   "metadata": {},
   "outputs": [],
   "source": [
    "import pandas as pd\n",
    "import os\n",
    "import seaborn as sns\n",
    "import matplotlib.pyplot as plt\n",
    "import numpy as np\n",
    "from tqdm import tqdm\n",
    "from matplotlib.ticker import MaxNLocator\n",
    "import json\n",
    "import ptitprince as pt\n",
    "import pickle as pkl\n",
    "# import contextily as ctx\n",
    "from analysis import *\n",
    "from ema_workbench import load_results"
   ]
  },
  {
   "cell_type": "markdown",
   "metadata": {},
   "source": [
    "## Input"
   ]
  },
  {
   "cell_type": "code",
   "execution_count": null,
   "metadata": {},
   "outputs": [],
   "source": [
    "# TODO: Address outliers in the household survey data"
   ]
  },
  {
   "cell_type": "markdown",
   "metadata": {},
   "source": [
    "What kind of verification checks are we going to do?"
   ]
  },
  {
   "cell_type": "code",
   "execution_count": 3,
   "metadata": {},
   "outputs": [],
   "source": [
    "household_survey = pd.read_csv('../data/processed/household_survey/Saint Lucia/Saint Lucia.csv')"
   ]
  },
  {
   "cell_type": "markdown",
   "metadata": {},
   "source": [
    "The most populated district is Castries. The second place is hold by Gros Islet. The third place is hold by Vieux Fort. The least populated district is Laborie."
   ]
  },
  {
   "cell_type": "code",
   "execution_count": 4,
   "metadata": {},
   "outputs": [
    {
     "name": "stdout",
     "output_type": "stream",
     "text": [
      "Total population = 172,638\n",
      "Micoud population = 17,436\n",
      "Vieuxfort population = 15,229\n",
      "Castries population = 70,959\n",
      "Gros Islet population = 27,467\n",
      "Laborie population = 6,828\n",
      "Dennery population = 11,591\n",
      "Choiseul population = 5,476\n",
      "Soufriere population = 8,985\n",
      "AnseLaRayeCanaries population = 8,667\n"
     ]
    }
   ],
   "source": [
    "total_population = round(household_survey['popwgt'].sum())\n",
    "district_population = household_survey.groupby('district')['popwgt'].sum()\n",
    "print('Total population = ' + str('{:,}'.format(total_population)))\n",
    "for district in household_survey['district'].unique():\n",
    "    print(district + ' population = ' + str('{:,}'.format(round(district_population[district]))))\n",
    "\n",
    "# Check whether district population is equal to the total population\n",
    "assert total_population == round(district_population.sum())"
   ]
  },
  {
   "cell_type": "markdown",
   "metadata": {},
   "source": [
    "It seems that the predominant household size is 4 people with 23%, followed by 2 people household size with around 19%."
   ]
  },
  {
   "cell_type": "code",
   "execution_count": 5,
   "metadata": {},
   "outputs": [
    {
     "data": {
      "image/png": "[encoded data removed]",
      "text/plain": [
       "<Figure size 420x280 with 1 Axes>"
      ]
     },
     "metadata": {},
     "output_type": "display_data"
    }
   ],
   "source": [
    "household_survey['hhsize_ae'] = household_survey['hhsize_ae'].astype(int)\n",
    "(household_survey.groupby('hhsize_ae')['popwgt'].sum() / total_population).plot.bar(rot=0)\n",
    "plt.xlabel('Household size')\n",
    "plt.ylabel('Fraction of population');"
   ]
  },
  {
   "cell_type": "code",
   "execution_count": 6,
   "metadata": {},
   "outputs": [
    {
     "name": "stdout",
     "output_type": "stream",
     "text": [
      "Micoud average income = 11347\n",
      "Vieuxfort average income = 10954\n",
      "Castries average income = 13573\n",
      "Gros Islet average income = 16351\n",
      "Laborie average income = 9072\n",
      "Dennery average income = 15270\n",
      "Choiseul average income = 13213\n",
      "Soufriere average income = 11717\n",
      "AnseLaRayeCanaries average income = 11708\n"
     ]
    }
   ],
   "source": [
    "household_survey['aeinc'] = household_survey['aeinc'].astype(float)\n",
    "for district in household_survey['district'].unique():\n",
    "    print(district + ' average income = ' + str(round((household_survey.loc[household_survey['district'] == district, 'aeinc'] * household_survey.loc[household_survey['district'] == district, 'popwgt']).sum() / district_population[district])))"
   ]
  },
  {
   "cell_type": "code",
   "execution_count": 7,
   "metadata": {},
   "outputs": [
    {
     "name": "stdout",
     "output_type": "stream",
     "text": [
      "Micoud average expenditure per capita = 14463\n",
      "Vieuxfort average expenditure per capita = 12406\n",
      "Castries average expenditure per capita = 13448\n",
      "Gros Islet average expenditure per capita = 17596\n",
      "Laborie average expenditure per capita = 11136\n",
      "Dennery average expenditure per capita = 11268\n",
      "Choiseul average expenditure per capita = 13438\n",
      "Soufriere average expenditure per capita = 19126\n",
      "AnseLaRayeCanaries average expenditure per capita = 11214\n"
     ]
    }
   ],
   "source": [
    "for district in household_survey['district'].unique():\n",
    "    print(district + ' average expenditure per capita = ' + str(round((household_survey.loc[household_survey['district'] == district, 'aeexp'] * household_survey.loc[household_survey['district'] == district, 'popwgt']).sum() / district_population[district])))"
   ]
  },
  {
   "cell_type": "code",
   "execution_count": 8,
   "metadata": {},
   "outputs": [
    {
     "name": "stdout",
     "output_type": "stream",
     "text": [
      "                      aeexp                                                     \n",
      "                       mean      std     min     25%      50%      75%       max\n",
      "district                                                                        \n",
      "AnseLaRayeCanaries  14057.0  16680.0  1290.0  5466.0   8805.0  17651.0  149411.0\n",
      "Castries            16205.0  15904.0     0.0  7805.0  12315.0  18787.0  240996.0\n",
      "Choiseul            16339.0  13626.0  1564.0  7535.0  11880.0  19625.0   80225.0\n",
      "Dennery             13644.0  17063.0  1935.0  5765.0   9493.0  15705.0  159626.0\n",
      "Gros Islet          20781.0  20057.0  3832.0  8891.0  15114.0  24977.0  191948.0\n",
      "Laborie             14296.0  10787.0  1632.0  7470.0  10775.0  18568.0   63126.0\n",
      "Micoud              19215.0  25879.0  1063.0  7182.0  10873.0  20101.0  199949.0\n",
      "Soufriere           22211.0  58157.0  2256.0  7419.0  11891.0  18680.0  598187.0\n",
      "Vieuxfort           14752.0  15029.0  1672.0  6175.0   9678.0  16642.0   99556.0\n"
     ]
    }
   ],
   "source": [
    "print(household_survey[['aeexp', 'district']].groupby('district').describe().round().iloc[:,1:].to_string(formatters={'aeexp': '{:,.0f}'.format}))"
   ]
  },
  {
   "cell_type": "code",
   "execution_count": 9,
   "metadata": {},
   "outputs": [
    {
     "data": {
      "text/plain": [
       "district\n",
       "AnseLaRayeCanaries     8666.907406\n",
       "Castries              70959.092469\n",
       "Choiseul               5475.866593\n",
       "Dennery               11590.780004\n",
       "Gros Islet            27467.060321\n",
       "Laborie                6828.324810\n",
       "Micoud                17435.507068\n",
       "Soufriere              8985.052193\n",
       "Vieuxfort             15229.366457\n",
       "Name: popwgt, dtype: float64"
      ]
     },
     "execution_count": 9,
     "metadata": {},
     "output_type": "execute_result"
    }
   ],
   "source": [
    "district_population"
   ]
  },
  {
   "cell_type": "code",
   "execution_count": 13,
   "metadata": {},
   "outputs": [
    {
     "data": {
      "text/plain": [
       "district\n",
       "AnseLaRayeCanaries     3291.869816\n",
       "Castries              15948.364549\n",
       "Choiseul                922.764929\n",
       "Dennery                5216.436993\n",
       "Gros Islet             3245.464657\n",
       "Laborie                1598.719502\n",
       "Micoud                 5433.041677\n",
       "Soufriere              2295.383335\n",
       "Vieuxfort              5272.038164\n",
       "Name: popwgt, dtype: float64"
      ]
     },
     "execution_count": 13,
     "metadata": {},
     "output_type": "execute_result"
    }
   ],
   "source": [
    "poor.groupby('district')['popwgt'].sum()"
   ]
  },
  {
   "cell_type": "code",
   "execution_count": 15,
   "metadata": {},
   "outputs": [
    {
     "data": {
      "image/png": "[encoded data removed]",
      "text/plain": [
       "<Figure size 420x280 with 1 Axes>"
      ]
     },
     "metadata": {},
     "output_type": "display_data"
    }
   ],
   "source": [
    "poor = household_survey[household_survey['is_poor'] == True]\n",
    "(poor.groupby('district')['popwgt'].sum() / district_population * 100).round(2) .plot.barh();\n",
    "plt.xlabel('Fraction of poor population (%)')\n",
    "plt.ylabel('District');\n",
    "plt.xlim(0, 100);"
   ]
  },
  {
   "cell_type": "markdown",
   "metadata": {},
   "source": [
    "## Model"
   ]
  },
  {
   "cell_type": "code",
   "execution_count": 4,
   "metadata": {},
   "outputs": [],
   "source": [
    "country = 'Saint Lucia'\n",
    "household_survey = pd.read_csv(f'../data/processed/household_survey/{country}/{country}.csv')"
   ]
  },
  {
   "cell_type": "markdown",
   "metadata": {},
   "source": [
    "### _assign_savings()"
   ]
  },
  {
   "cell_type": "markdown",
   "metadata": {},
   "source": [
    "It seems that what we do here is define a multiplier `m` for the product of `aaexp` and `saving_rate`. This multiplier has a (random) mean with uniform distribution from 0 to 5 scale=2.5 and normally distributed. On top of that we clip it between 0 and 1.     "
   ]
  },
  {
   "cell_type": "code",
   "execution_count": 5,
   "metadata": {},
   "outputs": [],
   "source": [
    "saving_rate = 0.02385\n",
    "df = household_survey.eval(f'aeexp*{saving_rate}').to_frame()\n",
    "df.columns = ['aeexp*saving_rate']\n",
    "\n",
    "loc = np.random.uniform(0, 5)\n",
    "scale = 2.5\n",
    "size = df.shape[0]\n",
    "clip_min = 0 \n",
    "clip_max = 1\n",
    "m = np.random.normal(loc, scale, size).round(2).clip(min=clip_min, max=clip_max)\n",
    "df['aesav'] = df['aeexp*saving_rate'] * m"
   ]
  },
  {
   "cell_type": "code",
   "execution_count": 6,
   "metadata": {},
   "outputs": [],
   "source": [
    "# Let's sample it for a couple of times\n",
    "low = 0\n",
    "high = 5\n",
    "scale = 2.5\n",
    "size = df.shape[0]\n",
    "clip_min = 0 \n",
    "clip_max = 1\n",
    "\n",
    "clipped = []\n",
    "unclipped = []\n",
    "n = 1000\n",
    "for i in range(0,n):\n",
    "    loc = np.random.uniform(low, high)\n",
    "    m = np.random.normal(loc, scale, size).round(2) # .clip(min=clip_min, max=clip_max)\n",
    "    unclipped.append(m)\n",
    "    clipped.append(m.clip(min=clip_min, max=clip_max))\n",
    "clipped = pd.DataFrame(clipped).T\n",
    "unclipped = pd.DataFrame(unclipped).T"
   ]
  },
  {
   "cell_type": "markdown",
   "metadata": {},
   "source": [
    "The resulting distribution is skewed. It has a much number of observations around 0 and 1."
   ]
  },
  {
   "cell_type": "code",
   "execution_count": 7,
   "metadata": {},
   "outputs": [
    {
     "data": {
      "image/png": "[encoded data removed]",
      "text/plain": [
       "<Figure size 420x280 with 1 Axes>"
      ]
     },
     "metadata": {},
     "output_type": "display_data"
    }
   ],
   "source": [
    "fig, ax = plt.subplots()\n",
    "for i in range(n):\n",
    "    clipped.iloc[:,i].hist(ax=ax, label='clipped', alpha=0.5, bins=10)"
   ]
  },
  {
   "cell_type": "code",
   "execution_count": 8,
   "metadata": {},
   "outputs": [],
   "source": [
    "value_counts = clipped.apply(lambda x: x.value_counts(), axis=0).mean(axis=1).sort_values()"
   ]
  },
  {
   "cell_type": "code",
   "execution_count": 9,
   "metadata": {},
   "outputs": [
    {
     "data": {
      "text/plain": [
       "0.01    0.001298\n",
       "0.02    0.001307\n",
       "0.10    0.001311\n",
       "0.09    0.001322\n",
       "0.38    0.001325\n",
       "          ...   \n",
       "0.74    0.001483\n",
       "0.96    0.001501\n",
       "0.87    0.001518\n",
       "0.00    0.191387\n",
       "1.00    0.671099\n",
       "Length: 101, dtype: float64"
      ]
     },
     "execution_count": 9,
     "metadata": {},
     "output_type": "execute_result"
    }
   ],
   "source": [
    "value_counts / value_counts.sum()"
   ]
  },
  {
   "cell_type": "markdown",
   "metadata": {},
   "source": [
    "Thus, most of the values (**66%**) won't be changed, other **20%** turned to 0 and the rest (**14%**) will become smaller. As a result we have quite some difference between `aesav` and `aeexp`*`saving_rate`. Let's see how this affects the distribution of the two variables."
   ]
  },
  {
   "cell_type": "code",
   "execution_count": 10,
   "metadata": {},
   "outputs": [],
   "source": [
    "df['mean_sample'] = df['aeexp*saving_rate'] * clipped.mean(axis=1)"
   ]
  },
  {
   "cell_type": "code",
   "execution_count": 11,
   "metadata": {},
   "outputs": [
    {
     "data": {
      "text/plain": [
       "count    1493.000000\n",
       "mean       81.704439\n",
       "std       191.741881\n",
       "min     -4270.820439\n",
       "25%        38.775230\n",
       "50%        65.812316\n",
       "75%       109.708335\n",
       "max      3670.696585\n",
       "dtype: float64"
      ]
     },
     "execution_count": 11,
     "metadata": {},
     "output_type": "execute_result"
    }
   ],
   "source": [
    "(df['aesav'] - df['mean_sample']).describe()"
   ]
  },
  {
   "cell_type": "code",
   "execution_count": 14,
   "metadata": {},
   "outputs": [],
   "source": [
    "melted = pd.melt(df, value_vars=['aeexp*saving_rate', 'aesav', 'mean_sample'], var_name='variable', value_name='value')"
   ]
  },
  {
   "cell_type": "code",
   "execution_count": 15,
   "metadata": {},
   "outputs": [
    {
     "data": {
      "image/png": "[encoded data removed]",
      "text/plain": [
       "<Figure size 420x280 with 1 Axes>"
      ]
     },
     "metadata": {},
     "output_type": "display_data"
    }
   ],
   "source": [
    "ax = pt.RainCloud(x='variable', y='value', data=melted, palette='Set2', \n",
    "             bw=0.2, width_viol=.7, orient='h', pointplot=True, cut=0);\n",
    "ax.set_xlim(right=melted['value'].quantile(0.99));"
   ]
  },
  {
   "cell_type": "markdown",
   "metadata": {},
   "source": [
    "### _set_vulnerability()"
   ]
  },
  {
   "cell_type": "code",
   "execution_count": 16,
   "metadata": {},
   "outputs": [],
   "source": [
    "df = household_survey['v_init'].to_frame()"
   ]
  },
  {
   "cell_type": "code",
   "execution_count": 25,
   "metadata": {},
   "outputs": [],
   "source": [
    "# Let's take a look at a single sample\n",
    "low = 0.6\n",
    "high = 1.4\n",
    "df['v'] = df['v_init'] * np.random.uniform(low, high, df.shape[0])\n",
    "threshold = 0.95\n",
    "df.loc[df['v'] > threshold, 'v'] = threshold\n",
    "\n",
    "# And now let's take average over 1000 samples\n",
    "sample = []\n",
    "n = 100\n",
    "for i in range(n):\n",
    "    sample.append(np.random.uniform(low, high, df.shape[0]))\n",
    "sample = pd.DataFrame(sample)\n",
    "mean_sample = sample.mean(axis=0)\n",
    "df['mean_sample'] = df['v_init'] * mean_sample\n",
    "df.loc[df['mean_sample'] > threshold, 'mean_sample'] = threshold"
   ]
  },
  {
   "cell_type": "code",
   "execution_count": 26,
   "metadata": {},
   "outputs": [
    {
     "data": {
      "text/html": [
       "<div>\n",
       "<style scoped>\n",
       "    .dataframe tbody tr th:only-of-type {\n",
       "        vertical-align: middle;\n",
       "    }\n",
       "\n",
       "    .dataframe tbody tr th {\n",
       "        vertical-align: top;\n",
       "    }\n",
       "\n",
       "    .dataframe thead th {\n",
       "        text-align: right;\n",
       "    }\n",
       "</style>\n",
       "<table border=\"1\" class=\"dataframe\">\n",
       "  <thead>\n",
       "    <tr style=\"text-align: right;\">\n",
       "      <th></th>\n",
       "      <th>v_init</th>\n",
       "      <th>v</th>\n",
       "      <th>mean_sample</th>\n",
       "    </tr>\n",
       "  </thead>\n",
       "  <tbody>\n",
       "    <tr>\n",
       "      <th>0</th>\n",
       "      <td>0.500</td>\n",
       "      <td>0.572668</td>\n",
       "      <td>0.512613</td>\n",
       "    </tr>\n",
       "    <tr>\n",
       "      <th>1</th>\n",
       "      <td>0.550</td>\n",
       "      <td>0.339372</td>\n",
       "      <td>0.556327</td>\n",
       "    </tr>\n",
       "    <tr>\n",
       "      <th>2</th>\n",
       "      <td>0.425</td>\n",
       "      <td>0.458019</td>\n",
       "      <td>0.418115</td>\n",
       "    </tr>\n",
       "    <tr>\n",
       "      <th>3</th>\n",
       "      <td>0.425</td>\n",
       "      <td>0.562654</td>\n",
       "      <td>0.416849</td>\n",
       "    </tr>\n",
       "    <tr>\n",
       "      <th>4</th>\n",
       "      <td>0.500</td>\n",
       "      <td>0.558372</td>\n",
       "      <td>0.496112</td>\n",
       "    </tr>\n",
       "    <tr>\n",
       "      <th>...</th>\n",
       "      <td>...</td>\n",
       "      <td>...</td>\n",
       "      <td>...</td>\n",
       "    </tr>\n",
       "    <tr>\n",
       "      <th>1488</th>\n",
       "      <td>0.500</td>\n",
       "      <td>0.601150</td>\n",
       "      <td>0.508003</td>\n",
       "    </tr>\n",
       "    <tr>\n",
       "      <th>1489</th>\n",
       "      <td>0.550</td>\n",
       "      <td>0.726084</td>\n",
       "      <td>0.558168</td>\n",
       "    </tr>\n",
       "    <tr>\n",
       "      <th>1490</th>\n",
       "      <td>0.425</td>\n",
       "      <td>0.542277</td>\n",
       "      <td>0.403308</td>\n",
       "    </tr>\n",
       "    <tr>\n",
       "      <th>1491</th>\n",
       "      <td>0.600</td>\n",
       "      <td>0.701052</td>\n",
       "      <td>0.598528</td>\n",
       "    </tr>\n",
       "    <tr>\n",
       "      <th>1492</th>\n",
       "      <td>0.550</td>\n",
       "      <td>0.700740</td>\n",
       "      <td>0.564881</td>\n",
       "    </tr>\n",
       "  </tbody>\n",
       "</table>\n",
       "<p>1493 rows × 3 columns</p>\n",
       "</div>"
      ],
      "text/plain": [
       "      v_init         v  mean_sample\n",
       "0      0.500  0.572668     0.512613\n",
       "1      0.550  0.339372     0.556327\n",
       "2      0.425  0.458019     0.418115\n",
       "3      0.425  0.562654     0.416849\n",
       "4      0.500  0.558372     0.496112\n",
       "...      ...       ...          ...\n",
       "1488   0.500  0.601150     0.508003\n",
       "1489   0.550  0.726084     0.558168\n",
       "1490   0.425  0.542277     0.403308\n",
       "1491   0.600  0.701052     0.598528\n",
       "1492   0.550  0.700740     0.564881\n",
       "\n",
       "[1493 rows x 3 columns]"
      ]
     },
     "execution_count": 26,
     "metadata": {},
     "output_type": "execute_result"
    }
   ],
   "source": [
    "df"
   ]
  },
  {
   "cell_type": "code",
   "execution_count": 27,
   "metadata": {},
   "outputs": [
    {
     "data": {
      "image/png": "[encoded data removed]",
      "text/plain": [
       "<Figure size 420x420 with 1 Axes>"
      ]
     },
     "metadata": {},
     "output_type": "display_data"
    }
   ],
   "source": [
    "plt.figure(figsize=(6,6))\n",
    "melted = pd.melt(df, value_vars=['v_init', 'v', 'mean_sample'], var_name='variable', value_name='value')\n",
    "ax = pt.RainCloud(x='variable', y='value', data=melted, palette='Set2', \n",
    "             bw=0.2, width_viol=0.6, orient='h', pointplot=True, cut=0)\n",
    "ax.set_xlim(0, 1)\n",
    "plt.tight_layout()"
   ]
  },
  {
   "cell_type": "markdown",
   "metadata": {},
   "source": [
    "### _assign_savings()"
   ]
  },
  {
   "cell_type": "markdown",
   "metadata": {},
   "source": [
    "## Output"
   ]
  },
  {
   "cell_type": "code",
   "execution_count": 31,
   "metadata": {},
   "outputs": [],
   "source": [
    "# Load results\n",
    "results = load_results('../results/scenarios=3000, policies=0.tar.gz')\n",
    "outcomes = prepare_outcomes_dataframe(results)\n",
    "outcomes.set_index('district', inplace=True)\n",
    "experiments = results[0]"
   ]
  },
  {
   "cell_type": "code",
   "execution_count": 32,
   "metadata": {},
   "outputs": [],
   "source": [
    "d = {'event_damage': 'Asset damage (physical)',\n",
    "     'total_asset_stock': 'Total asset stock (physical)',\n",
    "     'total_asset_in_survey': 'Total asset stock (survey)',\n",
    "     'total_asset_loss': 'Total asset loss (model)',\n",
    "     'total_consumption_loss': 'Total consumption loss (model)',\n",
    "     'r' : 'Socio-economic resilience (model)'}"
   ]
  },
  {
   "cell_type": "code",
   "execution_count": 35,
   "metadata": {},
   "outputs": [
    {
     "data": {
      "text/html": [
       "<style type=\"text/css\">\n",
       "</style>\n",
       "<table id=\"T_7afa5\">\n",
       "  <thead>\n",
       "    <tr>\n",
       "      <th class=\"blank level0\" >&nbsp;</th>\n",
       "      <th id=\"T_7afa5_level0_col0\" class=\"col_heading level0 col0\" >Asset damage (physical)</th>\n",
       "      <th id=\"T_7afa5_level0_col1\" class=\"col_heading level0 col1\" >Total asset stock (physical)</th>\n",
       "      <th id=\"T_7afa5_level0_col2\" class=\"col_heading level0 col2\" >Total asset stock (survey)</th>\n",
       "      <th id=\"T_7afa5_level0_col3\" class=\"col_heading level0 col3\" >Total asset loss (model)</th>\n",
       "      <th id=\"T_7afa5_level0_col4\" class=\"col_heading level0 col4\" >Total consumption loss (model)</th>\n",
       "      <th id=\"T_7afa5_level0_col5\" class=\"col_heading level0 col5\" >Socio-economic resilience (model)</th>\n",
       "    </tr>\n",
       "    <tr>\n",
       "      <th class=\"index_name level0\" >District</th>\n",
       "      <th class=\"blank col0\" >&nbsp;</th>\n",
       "      <th class=\"blank col1\" >&nbsp;</th>\n",
       "      <th class=\"blank col2\" >&nbsp;</th>\n",
       "      <th class=\"blank col3\" >&nbsp;</th>\n",
       "      <th class=\"blank col4\" >&nbsp;</th>\n",
       "      <th class=\"blank col5\" >&nbsp;</th>\n",
       "    </tr>\n",
       "  </thead>\n",
       "  <tbody>\n",
       "    <tr>\n",
       "      <th id=\"T_7afa5_level0_row0\" class=\"row_heading level0 row0\" >AnseLaRayeCanaries</th>\n",
       "      <td id=\"T_7afa5_row0_col0\" class=\"data row0 col0\" >1,282,936.18</td>\n",
       "      <td id=\"T_7afa5_row0_col1\" class=\"data row0 col1\" >47,442,177.05</td>\n",
       "      <td id=\"T_7afa5_row0_col2\" class=\"data row0 col2\" >334,331,195.84</td>\n",
       "      <td id=\"T_7afa5_row0_col3\" class=\"data row0 col3\" >1,281,393.79</td>\n",
       "      <td id=\"T_7afa5_row0_col4\" class=\"data row0 col4\" >2,053,195.55</td>\n",
       "      <td id=\"T_7afa5_row0_col5\" class=\"data row0 col5\" >0.62</td>\n",
       "    </tr>\n",
       "    <tr>\n",
       "      <th id=\"T_7afa5_level0_row1\" class=\"row_heading level0 row1\" >Castries</th>\n",
       "      <td id=\"T_7afa5_row1_col0\" class=\"data row1 col0\" >31,062,668.40</td>\n",
       "      <td id=\"T_7afa5_row1_col1\" class=\"data row1 col1\" >1,587,405,663.34</td>\n",
       "      <td id=\"T_7afa5_row1_col2\" class=\"data row1 col2\" >3,435,721,049.12</td>\n",
       "      <td id=\"T_7afa5_row1_col3\" class=\"data row1 col3\" >31,006,758.06</td>\n",
       "      <td id=\"T_7afa5_row1_col4\" class=\"data row1 col4\" >46,175,010.06</td>\n",
       "      <td id=\"T_7afa5_row1_col5\" class=\"data row1 col5\" >0.67</td>\n",
       "    </tr>\n",
       "    <tr>\n",
       "      <th id=\"T_7afa5_level0_row2\" class=\"row_heading level0 row2\" >Choiseul</th>\n",
       "      <td id=\"T_7afa5_row2_col0\" class=\"data row2 col0\" >1,111,847.84</td>\n",
       "      <td id=\"T_7afa5_row2_col1\" class=\"data row2 col1\" >54,354,802.37</td>\n",
       "      <td id=\"T_7afa5_row2_col2\" class=\"data row2 col2\" >377,890,219.98</td>\n",
       "      <td id=\"T_7afa5_row2_col3\" class=\"data row2 col3\" >1,112,307.14</td>\n",
       "      <td id=\"T_7afa5_row2_col4\" class=\"data row2 col4\" >1,646,680.75</td>\n",
       "      <td id=\"T_7afa5_row2_col5\" class=\"data row2 col5\" >0.68</td>\n",
       "    </tr>\n",
       "    <tr>\n",
       "      <th id=\"T_7afa5_level0_row3\" class=\"row_heading level0 row3\" >Dennery</th>\n",
       "      <td id=\"T_7afa5_row3_col0\" class=\"data row3 col0\" >2,667,414.34</td>\n",
       "      <td id=\"T_7afa5_row3_col1\" class=\"data row3 col1\" >125,372,604.01</td>\n",
       "      <td id=\"T_7afa5_row3_col2\" class=\"data row3 col2\" >417,528,403.13</td>\n",
       "      <td id=\"T_7afa5_row3_col3\" class=\"data row3 col3\" >2,666,362.44</td>\n",
       "      <td id=\"T_7afa5_row3_col4\" class=\"data row3 col4\" >3,955,162.08</td>\n",
       "      <td id=\"T_7afa5_row3_col5\" class=\"data row3 col5\" >0.67</td>\n",
       "    </tr>\n",
       "    <tr>\n",
       "      <th id=\"T_7afa5_level0_row4\" class=\"row_heading level0 row4\" >Gros Islet</th>\n",
       "      <td id=\"T_7afa5_row4_col0\" class=\"data row4 col0\" >10,932,607.53</td>\n",
       "      <td id=\"T_7afa5_row4_col1\" class=\"data row4 col1\" >532,061,766.39</td>\n",
       "      <td id=\"T_7afa5_row4_col2\" class=\"data row4 col2\" >3,294,339,146.51</td>\n",
       "      <td id=\"T_7afa5_row4_col3\" class=\"data row4 col3\" >10,919,741.13</td>\n",
       "      <td id=\"T_7afa5_row4_col4\" class=\"data row4 col4\" >13,785,636.63</td>\n",
       "      <td id=\"T_7afa5_row4_col5\" class=\"data row4 col5\" >0.79</td>\n",
       "    </tr>\n",
       "    <tr>\n",
       "      <th id=\"T_7afa5_level0_row5\" class=\"row_heading level0 row5\" >Laborie</th>\n",
       "      <td id=\"T_7afa5_row5_col0\" class=\"data row5 col0\" >2,035,118.22</td>\n",
       "      <td id=\"T_7afa5_row5_col1\" class=\"data row5 col1\" >99,235,698.32</td>\n",
       "      <td id=\"T_7afa5_row5_col2\" class=\"data row5 col2\" >215,695,044.06</td>\n",
       "      <td id=\"T_7afa5_row5_col3\" class=\"data row5 col3\" >2,033,602.38</td>\n",
       "      <td id=\"T_7afa5_row5_col4\" class=\"data row5 col4\" >3,616,429.37</td>\n",
       "      <td id=\"T_7afa5_row5_col5\" class=\"data row5 col5\" >0.56</td>\n",
       "    </tr>\n",
       "    <tr>\n",
       "      <th id=\"T_7afa5_level0_row6\" class=\"row_heading level0 row6\" >Micoud</th>\n",
       "      <td id=\"T_7afa5_row6_col0\" class=\"data row6 col0\" >4,766,541.74</td>\n",
       "      <td id=\"T_7afa5_row6_col1\" class=\"data row6 col1\" >231,995,156.10</td>\n",
       "      <td id=\"T_7afa5_row6_col2\" class=\"data row6 col2\" >554,020,360.02</td>\n",
       "      <td id=\"T_7afa5_row6_col3\" class=\"data row6 col3\" >4,768,400.00</td>\n",
       "      <td id=\"T_7afa5_row6_col4\" class=\"data row6 col4\" >7,953,036.91</td>\n",
       "      <td id=\"T_7afa5_row6_col5\" class=\"data row6 col5\" >0.60</td>\n",
       "    </tr>\n",
       "    <tr>\n",
       "      <th id=\"T_7afa5_level0_row7\" class=\"row_heading level0 row7\" >Soufriere</th>\n",
       "      <td id=\"T_7afa5_row7_col0\" class=\"data row7 col0\" >1,679,254.31</td>\n",
       "      <td id=\"T_7afa5_row7_col1\" class=\"data row7 col1\" >82,756,712.06</td>\n",
       "      <td id=\"T_7afa5_row7_col2\" class=\"data row7 col2\" >535,928,432.44</td>\n",
       "      <td id=\"T_7afa5_row7_col3\" class=\"data row7 col3\" >1,677,145.19</td>\n",
       "      <td id=\"T_7afa5_row7_col4\" class=\"data row7 col4\" >2,599,342.78</td>\n",
       "      <td id=\"T_7afa5_row7_col5\" class=\"data row7 col5\" >0.65</td>\n",
       "    </tr>\n",
       "    <tr>\n",
       "      <th id=\"T_7afa5_level0_row8\" class=\"row_heading level0 row8\" >Vieuxfort</th>\n",
       "      <td id=\"T_7afa5_row8_col0\" class=\"data row8 col0\" >4,264,030.49</td>\n",
       "      <td id=\"T_7afa5_row8_col1\" class=\"data row8 col1\" >216,534,648.76</td>\n",
       "      <td id=\"T_7afa5_row8_col2\" class=\"data row8 col2\" >1,266,550,258.12</td>\n",
       "      <td id=\"T_7afa5_row8_col3\" class=\"data row8 col3\" >4,250,556.09</td>\n",
       "      <td id=\"T_7afa5_row8_col4\" class=\"data row8 col4\" >6,645,123.02</td>\n",
       "      <td id=\"T_7afa5_row8_col5\" class=\"data row8 col5\" >0.64</td>\n",
       "    </tr>\n",
       "  </tbody>\n",
       "</table>\n"
      ],
      "text/plain": [
       "<pandas.io.formats.style.Styler at 0x1b47e5a8370>"
      ]
     },
     "execution_count": 35,
     "metadata": {},
     "output_type": "execute_result"
    }
   ],
   "source": [
    "df = outcomes.copy()\n",
    "df = df[list(d.keys())].round()\n",
    "df.columns = list(d.values())\n",
    "df.index.name = 'District'\n",
    "# Print df with comma separator for thousands with 2 decimals\n",
    "df.groupby('District').median().round(2).style.format(\"{:,.2f}\")"
   ]
  },
  {
   "cell_type": "code",
   "execution_count": null,
   "metadata": {},
   "outputs": [],
   "source": []
  }
 ],
 "metadata": {
  "kernelspec": {
   "display_name": "ubk",
   "language": "python",
   "name": "python3"
  },
  "language_info": {
   "codemirror_mode": {
    "name": "ipython",
    "version": 3
   },
   "file_extension": ".py",
   "mimetype": "text/x-python",
   "name": "python",
   "nbconvert_exporter": "python",
   "pygments_lexer": "ipython3",
   "version": "3.9.16"
  },
  "orig_nbformat": 4
 },
 "nbformat": 4,
 "nbformat_minor": 2
}

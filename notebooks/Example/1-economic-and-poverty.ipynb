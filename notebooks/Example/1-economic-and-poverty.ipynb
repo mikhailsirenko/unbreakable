{
 "cells": [
  {
   "cell_type": "code",
   "execution_count": 2,
   "metadata": {},
   "outputs": [],
   "source": [
    "import matplotlib.pyplot as plt\n",
    "import pandas as pd\n",
    "import seaborn as sns\n",
    "import numpy as np\n",
    "import geopandas as gpd\n",
    "from ema_workbench import load_results\n",
    "from unbreakable.experiments.experiment_results_formatter import format_experiment_results"
   ]
  },
  {
   "cell_type": "code",
   "execution_count": 3,
   "metadata": {},
   "outputs": [],
   "source": [
    "country = \"Example\"\n",
    "disaster_type = \"flood\"\n",
    "return_periond = 100\n",
    "\n",
    "n_scenarios = 6\n",
    "n_policies = 0\n",
    "\n",
    "spu_name = 'Region'\n",
    "\n",
    "results_path = (\n",
    "    f\"../../results/{country}/disaster_type={disaster_type}_return_period={return_periond}_scenarios={n_scenarios}_policies={n_policies}.tar.gz\"\n",
    ")\n",
    "results = load_results(results_path)\n",
    "results = format_experiment_results(results, include_policies=False, include_uncertainties=False)"
   ]
  },
  {
   "cell_type": "markdown",
   "metadata": {},
   "source": [
    "## Economic impacts"
   ]
  },
  {
   "cell_type": "code",
   "execution_count": 4,
   "metadata": {},
   "outputs": [],
   "source": [
    "economic_columns = [\n",
    "    \"avg_annual_consumption_loss\",\n",
    "    \"avg_annual_consumption_loss_pct\",\n",
    "]\n",
    "results['annual_average_consumption_loss_pct'] *= 100"
   ]
  },
  {
   "cell_type": "code",
   "execution_count": 5,
   "metadata": {},
   "outputs": [
    {
     "data": {
      "text/plain": [
       "count    18.000000\n",
       "mean     18.640593\n",
       "std       0.509090\n",
       "min      18.074649\n",
       "25%      18.241013\n",
       "50%      18.468228\n",
       "75%      19.239292\n",
       "max      19.468463\n",
       "Name: annual_average_consumption_loss_pct, dtype: float64"
      ]
     },
     "execution_count": 5,
     "metadata": {},
     "output_type": "execute_result"
    }
   ],
   "source": [
    "results['annual_average_consumption_loss_pct'].describe()"
   ]
  },
  {
   "cell_type": "code",
   "execution_count": 6,
   "metadata": {},
   "outputs": [
    {
     "data": {
      "image/png": "[encoded data removed]",
      "text/plain": [
       "<Figure size 448x336 with 1 Axes>"
      ]
     },
     "metadata": {},
     "output_type": "display_data"
    }
   ],
   "source": [
    "results['annual_average_consumption_loss_pct'].hist();\n",
    "plt.ylabel(\"Count\");\n",
    "plt.xlabel(\"Average annual consumption loss PC (%)\");\n",
    "sns.despine()"
   ]
  },
  {
   "cell_type": "code",
   "execution_count": 7,
   "metadata": {},
   "outputs": [
    {
     "data": {
      "text/html": [
       "<div>\n",
       "<style scoped>\n",
       "    .dataframe tbody tr th:only-of-type {\n",
       "        vertical-align: middle;\n",
       "    }\n",
       "\n",
       "    .dataframe tbody tr th {\n",
       "        vertical-align: top;\n",
       "    }\n",
       "\n",
       "    .dataframe thead th {\n",
       "        text-align: right;\n",
       "    }\n",
       "</style>\n",
       "<table border=\"1\" class=\"dataframe\">\n",
       "  <thead>\n",
       "    <tr style=\"text-align: right;\">\n",
       "      <th></th>\n",
       "      <th>mean</th>\n",
       "      <th>std</th>\n",
       "    </tr>\n",
       "    <tr>\n",
       "      <th>spatial_unit</th>\n",
       "      <th></th>\n",
       "      <th></th>\n",
       "    </tr>\n",
       "  </thead>\n",
       "  <tbody>\n",
       "    <tr>\n",
       "      <th>region_2</th>\n",
       "      <td>19.31</td>\n",
       "      <td>0.12</td>\n",
       "    </tr>\n",
       "    <tr>\n",
       "      <th>region_0</th>\n",
       "      <td>18.32</td>\n",
       "      <td>0.22</td>\n",
       "    </tr>\n",
       "    <tr>\n",
       "      <th>region_1</th>\n",
       "      <td>18.29</td>\n",
       "      <td>0.12</td>\n",
       "    </tr>\n",
       "  </tbody>\n",
       "</table>\n",
       "</div>"
      ],
      "text/plain": [
       "               mean   std\n",
       "spatial_unit             \n",
       "region_2      19.31  0.12\n",
       "region_0      18.32  0.22\n",
       "region_1      18.29  0.12"
      ]
     },
     "execution_count": 7,
     "metadata": {},
     "output_type": "execute_result"
    }
   ],
   "source": [
    "results.groupby('spatial_unit')['annual_average_consumption_loss_pct'].describe()[['mean', 'std']].sort_values('mean', ascending=False).round(2)"
   ]
  },
  {
   "cell_type": "code",
   "execution_count": 8,
   "metadata": {},
   "outputs": [
    {
     "data": {
      "image/png": "[encoded data removed]",
      "text/plain": [
       "<Figure size 420x280 with 1 Axes>"
      ]
     },
     "metadata": {},
     "output_type": "display_data"
    }
   ],
   "source": [
    "fig, ax = plt.subplots(1, 1, figsize=(6, 4))\n",
    "for spatial_unit in results['spatial_unit'].unique():\n",
    "    spatial_unit_results = results[results['spatial_unit'] == spatial_unit]\n",
    "    sns.kdeplot(\n",
    "            data=spatial_unit_results,\n",
    "            x=\"annual_average_consumption_loss_pct\",\n",
    "            ax=ax,\n",
    "            alpha=1,\n",
    "            label=spatial_unit,\n",
    "        )\n",
    "    sns.despine()\n",
    "plt.xlim(0, 100)\n",
    "plt.xlabel(\"Average annual consumption loss PC (%)\")\n",
    "plt.ylabel(\"Density\")\n",
    "plt.legend(title=\"District\");"
   ]
  },
  {
   "cell_type": "markdown",
   "metadata": {},
   "source": [
    "## Poverty impacts"
   ]
  },
  {
   "cell_type": "code",
   "execution_count": 9,
   "metadata": {},
   "outputs": [
    {
     "data": {
      "text/html": [
       "<style type=\"text/css\">\n",
       "</style>\n",
       "<table id=\"T_169ed\">\n",
       "  <thead>\n",
       "    <tr>\n",
       "      <th class=\"blank level0\" >&nbsp;</th>\n",
       "      <th id=\"T_169ed_level0_col0\" class=\"col_heading level0 col0\" >Mean</th>\n",
       "      <th id=\"T_169ed_level0_col1\" class=\"col_heading level0 col1\" >Std</th>\n",
       "      <th id=\"T_169ed_level0_col2\" class=\"col_heading level0 col2\" >Min</th>\n",
       "      <th id=\"T_169ed_level0_col3\" class=\"col_heading level0 col3\" >Max</th>\n",
       "    </tr>\n",
       "    <tr>\n",
       "      <th class=\"index_name level0\" >District</th>\n",
       "      <th class=\"blank col0\" >&nbsp;</th>\n",
       "      <th class=\"blank col1\" >&nbsp;</th>\n",
       "      <th class=\"blank col2\" >&nbsp;</th>\n",
       "      <th class=\"blank col3\" >&nbsp;</th>\n",
       "    </tr>\n",
       "  </thead>\n",
       "  <tbody>\n",
       "    <tr>\n",
       "      <th id=\"T_169ed_level0_row0\" class=\"row_heading level0 row0\" >region_0</th>\n",
       "      <td id=\"T_169ed_row0_col0\" class=\"data row0 col0\" >0</td>\n",
       "      <td id=\"T_169ed_row0_col1\" class=\"data row0 col1\" >0</td>\n",
       "      <td id=\"T_169ed_row0_col2\" class=\"data row0 col2\" >0</td>\n",
       "      <td id=\"T_169ed_row0_col3\" class=\"data row0 col3\" >0</td>\n",
       "    </tr>\n",
       "    <tr>\n",
       "      <th id=\"T_169ed_level0_row1\" class=\"row_heading level0 row1\" >region_1</th>\n",
       "      <td id=\"T_169ed_row1_col0\" class=\"data row1 col0\" >0</td>\n",
       "      <td id=\"T_169ed_row1_col1\" class=\"data row1 col1\" >0</td>\n",
       "      <td id=\"T_169ed_row1_col2\" class=\"data row1 col2\" >0</td>\n",
       "      <td id=\"T_169ed_row1_col3\" class=\"data row1 col3\" >0</td>\n",
       "    </tr>\n",
       "    <tr>\n",
       "      <th id=\"T_169ed_level0_row2\" class=\"row_heading level0 row2\" >region_2</th>\n",
       "      <td id=\"T_169ed_row2_col0\" class=\"data row2 col0\" >0</td>\n",
       "      <td id=\"T_169ed_row2_col1\" class=\"data row2 col1\" >0</td>\n",
       "      <td id=\"T_169ed_row2_col2\" class=\"data row2 col2\" >0</td>\n",
       "      <td id=\"T_169ed_row2_col3\" class=\"data row2 col3\" >0</td>\n",
       "    </tr>\n",
       "  </tbody>\n",
       "</table>\n"
      ],
      "text/plain": [
       "<pandas.io.formats.style.Styler at 0x252672d4f10>"
      ]
     },
     "execution_count": 9,
     "metadata": {},
     "output_type": "execute_result"
    }
   ],
   "source": [
    "# TODO: It seems that there is no variance between the model runs.\n",
    "new_poor_count = results.groupby('spatial_unit')['new_poor_count'].describe().round(2)\n",
    "new_poor_count.index.name = 'District'\n",
    "new_poor_count = new_poor_count.drop(columns=['count', \n",
    "                                              #'std',\n",
    "                                               'min',\n",
    "                                            #    '25%',\n",
    "                                               '50%',\n",
    "                                            #    '75%',\n",
    "                                               'max'\n",
    "                                              ])\n",
    "new_poor_count.columns = ['Mean', \n",
    "                          'Std', \n",
    "                          'Min', \n",
    "                          # '25%', \n",
    "                          # '50%', \n",
    "                          # '75%', \n",
    "                          'Max'\n",
    "                          ]\n",
    "new_poor_count.sort_values('Mean', ascending=False).style.format(\"{:,.0f}\")"
   ]
  },
  {
   "cell_type": "code",
   "execution_count": 10,
   "metadata": {},
   "outputs": [],
   "source": [
    "poverty_duration_columns = [f'poverty_duration_{i}'for i in range(1, 11)]\n",
    "poverty_duration = results[['spatial_unit'] + poverty_duration_columns].groupby('spatial_unit').mean().round(2).sort_values(by='poverty_duration_5', ascending=False).round()\n",
    "poverty_duration.columns = np.arange(1, 11)\n",
    "poverty_duration.index.name = spu_name\n",
    "poverty_duration = poverty_duration.replace(0, np.nan)\n",
    "poverty_duration.sort_values(1, ascending=False).iloc[:,:3].to_clipboard()"
   ]
  },
  {
   "cell_type": "code",
   "execution_count": 11,
   "metadata": {},
   "outputs": [
    {
     "data": {
      "text/html": [
       "<div>\n",
       "<style scoped>\n",
       "    .dataframe tbody tr th:only-of-type {\n",
       "        vertical-align: middle;\n",
       "    }\n",
       "\n",
       "    .dataframe tbody tr th {\n",
       "        vertical-align: top;\n",
       "    }\n",
       "\n",
       "    .dataframe thead th {\n",
       "        text-align: right;\n",
       "    }\n",
       "</style>\n",
       "<table border=\"1\" class=\"dataframe\">\n",
       "  <thead>\n",
       "    <tr style=\"text-align: right;\">\n",
       "      <th></th>\n",
       "      <th>1</th>\n",
       "      <th>2</th>\n",
       "      <th>3</th>\n",
       "      <th>4</th>\n",
       "      <th>5</th>\n",
       "      <th>6</th>\n",
       "      <th>7</th>\n",
       "      <th>8</th>\n",
       "      <th>9</th>\n",
       "      <th>10</th>\n",
       "    </tr>\n",
       "    <tr>\n",
       "      <th>Region</th>\n",
       "      <th></th>\n",
       "      <th></th>\n",
       "      <th></th>\n",
       "      <th></th>\n",
       "      <th></th>\n",
       "      <th></th>\n",
       "      <th></th>\n",
       "      <th></th>\n",
       "      <th></th>\n",
       "      <th></th>\n",
       "    </tr>\n",
       "  </thead>\n",
       "  <tbody>\n",
       "    <tr>\n",
       "      <th>region_0</th>\n",
       "      <td>NaN</td>\n",
       "      <td>NaN</td>\n",
       "      <td>NaN</td>\n",
       "      <td>NaN</td>\n",
       "      <td>NaN</td>\n",
       "      <td>NaN</td>\n",
       "      <td>NaN</td>\n",
       "      <td>NaN</td>\n",
       "      <td>NaN</td>\n",
       "      <td>NaN</td>\n",
       "    </tr>\n",
       "    <tr>\n",
       "      <th>region_1</th>\n",
       "      <td>NaN</td>\n",
       "      <td>NaN</td>\n",
       "      <td>NaN</td>\n",
       "      <td>NaN</td>\n",
       "      <td>NaN</td>\n",
       "      <td>NaN</td>\n",
       "      <td>NaN</td>\n",
       "      <td>NaN</td>\n",
       "      <td>NaN</td>\n",
       "      <td>NaN</td>\n",
       "    </tr>\n",
       "    <tr>\n",
       "      <th>region_2</th>\n",
       "      <td>NaN</td>\n",
       "      <td>NaN</td>\n",
       "      <td>NaN</td>\n",
       "      <td>NaN</td>\n",
       "      <td>NaN</td>\n",
       "      <td>NaN</td>\n",
       "      <td>NaN</td>\n",
       "      <td>NaN</td>\n",
       "      <td>NaN</td>\n",
       "      <td>NaN</td>\n",
       "    </tr>\n",
       "  </tbody>\n",
       "</table>\n",
       "</div>"
      ],
      "text/plain": [
       "          1   2   3   4   5   6   7   8   9   10\n",
       "Region                                          \n",
       "region_0 NaN NaN NaN NaN NaN NaN NaN NaN NaN NaN\n",
       "region_1 NaN NaN NaN NaN NaN NaN NaN NaN NaN NaN\n",
       "region_2 NaN NaN NaN NaN NaN NaN NaN NaN NaN NaN"
      ]
     },
     "execution_count": 11,
     "metadata": {},
     "output_type": "execute_result"
    }
   ],
   "source": [
    "poverty_duration"
   ]
  },
  {
   "cell_type": "code",
   "execution_count": 12,
   "metadata": {},
   "outputs": [
    {
     "data": {
      "text/html": [
       "<style type=\"text/css\">\n",
       "</style>\n",
       "<table id=\"T_9ee98\">\n",
       "  <thead>\n",
       "    <tr>\n",
       "      <th class=\"blank level0\" >&nbsp;</th>\n",
       "      <th id=\"T_9ee98_level0_col0\" class=\"col_heading level0 col0\" >affected_people_count</th>\n",
       "      <th id=\"T_9ee98_level0_col1\" class=\"col_heading level0 col1\" >new_poor_count</th>\n",
       "      <th id=\"T_9ee98_level0_col2\" class=\"col_heading level0 col2\" >affected_to_new_poor_ratio</th>\n",
       "    </tr>\n",
       "    <tr>\n",
       "      <th class=\"index_name level0\" >spatial_unit</th>\n",
       "      <th class=\"blank col0\" >&nbsp;</th>\n",
       "      <th class=\"blank col1\" >&nbsp;</th>\n",
       "      <th class=\"blank col2\" >&nbsp;</th>\n",
       "    </tr>\n",
       "  </thead>\n",
       "  <tbody>\n",
       "    <tr>\n",
       "      <th id=\"T_9ee98_level0_row0\" class=\"row_heading level0 row0\" >region_0</th>\n",
       "      <td id=\"T_9ee98_row0_col0\" class=\"data row0 col0\" >1,058.27</td>\n",
       "      <td id=\"T_9ee98_row0_col1\" class=\"data row0 col1\" >0.00</td>\n",
       "      <td id=\"T_9ee98_row0_col2\" class=\"data row0 col2\" >0.00</td>\n",
       "    </tr>\n",
       "    <tr>\n",
       "      <th id=\"T_9ee98_level0_row1\" class=\"row_heading level0 row1\" >region_1</th>\n",
       "      <td id=\"T_9ee98_row1_col0\" class=\"data row1 col0\" >2,586.23</td>\n",
       "      <td id=\"T_9ee98_row1_col1\" class=\"data row1 col1\" >0.00</td>\n",
       "      <td id=\"T_9ee98_row1_col2\" class=\"data row1 col2\" >0.00</td>\n",
       "    </tr>\n",
       "    <tr>\n",
       "      <th id=\"T_9ee98_level0_row2\" class=\"row_heading level0 row2\" >region_2</th>\n",
       "      <td id=\"T_9ee98_row2_col0\" class=\"data row2 col0\" >1,633.89</td>\n",
       "      <td id=\"T_9ee98_row2_col1\" class=\"data row2 col1\" >0.00</td>\n",
       "      <td id=\"T_9ee98_row2_col2\" class=\"data row2 col2\" >0.00</td>\n",
       "    </tr>\n",
       "  </tbody>\n",
       "</table>\n"
      ],
      "text/plain": [
       "<pandas.io.formats.style.Styler at 0x25267a0be90>"
      ]
     },
     "execution_count": 12,
     "metadata": {},
     "output_type": "execute_result"
    }
   ],
   "source": [
    "# TODO: It seems that there is no variance between the model runs.\n",
    "df = results.groupby('spatial_unit')[['affected_people_count','new_poor_count']].mean()\n",
    "df['affected_to_new_poor_ratio'] = df['new_poor_count'] / df['affected_people_count']\n",
    "df.sort_values(['affected_to_new_poor_ratio', 'new_poor_count'], ascending=False).style.format(\"{:,.2f}\")"
   ]
  }
 ],
 "metadata": {
  "kernelspec": {
   "display_name": "unbreakable",
   "language": "python",
   "name": "python3"
  },
  "language_info": {
   "codemirror_mode": {
    "name": "ipython",
    "version": 3
   },
   "file_extension": ".py",
   "mimetype": "text/x-python",
   "name": "python",
   "nbconvert_exporter": "python",
   "pygments_lexer": "ipython3",
   "version": "3.11.9"
  }
 },
 "nbformat": 4,
 "nbformat_minor": 2
}

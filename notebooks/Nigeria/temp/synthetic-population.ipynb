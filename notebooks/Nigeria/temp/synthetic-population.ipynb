{
 "cells": [
  {
   "cell_type": "code",
   "execution_count": null,
   "metadata": {},
   "outputs": [],
   "source": [
    "# Load country-specific data\n",
    "df = pd.read_csv('../../data/processed/household_survey/Nigeria.csv')\n",
    "\n",
    "# Load conflict data\n",
    "conflict = pd.read_excel('../../data/processed/conflict/Nigeria.xlsx')\n",
    "df = pd.merge(df, conflict, on='region')\n",
    "\n",
    "# The \"starting point\" is the expenditure\n",
    "# From there we can calculate everything else\n",
    "\n",
    "# First, on the country level without taking into account conflict\n",
    "# Clip exp to q1 and q3\n",
    "q1 = df['exp'].quantile(0.01)\n",
    "q3 = df['exp'].quantile(0.99)\n",
    "df['exp'] = df[(df['exp'] > q1) & (df['exp'] < q3)]['exp']\n",
    "\n",
    "weighted_mean = (df['exp'] * df['wgt']).sum() / df['wgt'].sum()\n",
    "weighted_min = ((df['exp'] * df['wgt']) / df['wgt']).min()\n",
    "weighted_max = ((df['exp'] * df['wgt']) / df['wgt']).max()\n",
    "\n",
    "print(\"Weighted Mean:\", round(weighted_mean))\n",
    "print(\"Weighted Minimum:\", round(weighted_min))\n",
    "print(\"Weighted Maximum:\", round(weighted_max))"
   ]
  },
  {
   "cell_type": "code",
   "execution_count": null,
   "metadata": {},
   "outputs": [],
   "source": [
    "mean_vulnerability = df.groupby('conflict_intensity').mean(numeric_only=True)[['v_init']]\n",
    "mean_vulnerability = mean_vulnerability.rename(columns={'v_init': 'mean_vulnerability'})\n",
    "mean_vulnerability.index = pd.Categorical(mean_vulnerability.index, categories=['Very low', 'Low', 'Medium', 'High', 'Very high'], ordered=True)\n",
    "mean_vulnerability.sort_index(inplace=True)\n",
    "mean_vulnerability = mean_vulnerability.round(2)\n",
    "mean_vulnerability.to_dict()\n",
    "\n",
    "exp_by_conflict = df.groupby('conflict_intensity').describe()['exp']\n",
    "exp_by_conflict.index = pd.Categorical(exp_by_conflict.index, categories=['Very low', 'Low', 'Medium', 'High', 'Very high'], ordered=True)\n",
    "exp_by_conflict.sort_index(inplace=True)\n",
    "exp_by_conflict = exp_by_conflict.round(2)\n",
    "exp_by_conflict[['mean', 'std', 'min', 'max']].T.to_dict()"
   ]
  }
 ],
 "metadata": {
  "language_info": {
   "name": "python"
  }
 },
 "nbformat": 4,
 "nbformat_minor": 2
}
